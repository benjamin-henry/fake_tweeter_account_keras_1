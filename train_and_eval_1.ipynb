{
 "cells": [
  {
   "cell_type": "code",
   "execution_count": 49,
   "id": "20e9fbc1",
   "metadata": {},
   "outputs": [],
   "source": [
    "import pandas as pd\n",
    "import numpy as np\n",
    "from sklearn.metrics import confusion_matrix\n",
    "from math import isnan"
   ]
  },
  {
   "cell_type": "code",
   "execution_count": 50,
   "id": "2515ad7a",
   "metadata": {},
   "outputs": [],
   "source": [
    "data = dict()\n",
    "data[\"fake\"]  = pd.read_csv(\"DATASET/fusers.csv\")\n",
    "data[\"legit\"] = pd.read_csv(\"DATASET/users.csv\")"
   ]
  },
  {
   "cell_type": "code",
   "execution_count": 51,
   "id": "e992e385",
   "metadata": {},
   "outputs": [],
   "source": [
    "data[\"legit\"] = data[\"legit\"].drop([\"id\", \"name\", \"screen_name\", \"statuses_count\", \"created_at\", \"lang\", \"location\", \"geo_enabled\", \"default_profile_image\", \"profile_image_url\", \"profile_banner_url\", \"profile_use_background_image\", \"profile_background_image_url_https\", \"profile_text_color\", \"profile_image_url_https\", \"profile_sidebar_border_color\", \"profile_background_tile\", \"profile_sidebar_fill_color\", \"profile_background_image_url\", \"profile_background_color\", \"profile_link_color\", \"utc_offset\", \"protected\", \"verified\", \"dataset\", \"updated\"], axis=1)\n",
    "data[\"fake\"]  = data[\"fake\"].drop([\"id\", \"name\", \"screen_name\", \"statuses_count\", \"created_at\", \"lang\", \"location\", \"geo_enabled\", \"default_profile_image\", \"profile_image_url\", \"profile_banner_url\", \"profile_use_background_image\", \"profile_background_image_url_https\", \"profile_text_color\", \"profile_image_url_https\", \"profile_sidebar_border_color\", \"profile_background_tile\", \"profile_sidebar_fill_color\", \"profile_background_image_url\", \"profile_background_color\", \"profile_link_color\", \"utc_offset\", \"protected\", \"verified\", \"dataset\", \"updated\"], axis=1)"
   ]
  },
  {
   "cell_type": "code",
   "execution_count": 52,
   "id": "05a0022a",
   "metadata": {},
   "outputs": [],
   "source": [
    "def is_default_profile(arr):\n",
    "    ret = []\n",
    "    for l in arr:\n",
    "        if l == 1.:\n",
    "            ret.append(1.)\n",
    "        else:\n",
    "            ret.append(-1.)\n",
    "    return ret\n",
    "\n",
    "def has_description(arr):\n",
    "    ret = []\n",
    "    for l in arr:\n",
    "        if type(l) == str:\n",
    "            ret.append(1.)\n",
    "        else:\n",
    "            ret.append(-1.)\n",
    "    return ret\n",
    "\n",
    "def has_url(arr):\n",
    "    ret = []\n",
    "    for l in arr:\n",
    "        if type(l) == str and len(l) > 0:\n",
    "            ret.append(1.)\n",
    "        else:\n",
    "            ret.append(-1.)\n",
    "    return ret\n",
    "\n",
    "def has_timezone(arr):\n",
    "    ret = []\n",
    "    for l in arr:\n",
    "        if type(l) == str and len(l) > 0:\n",
    "            ret.append(1.)\n",
    "        else:\n",
    "            ret.append(-1.)\n",
    "    return ret\n",
    "\n",
    "def is_listed(arr):\n",
    "    ret = []\n",
    "    for l in arr:\n",
    "        if l > 0.:\n",
    "            ret.append(1.)\n",
    "        else:\n",
    "            ret.append(-1.)\n",
    "    return ret\n",
    "\n",
    "def has_favourites(arr):\n",
    "    ret = []\n",
    "    for l in arr:\n",
    "        if l > 0.:\n",
    "            ret.append(1.)\n",
    "        else:\n",
    "            ret.append(-1.)\n",
    "    return ret\n",
    "\n",
    "def friends_followers_ratio(friends, followers):\n",
    "    ret = []\n",
    "    for fr, fo in zip(friends, followers):\n",
    "        if isnan(fo) or fo == 0.:\n",
    "            ret.append(-1.)\n",
    "        else:\n",
    "            ret.append(fr/fo)\n",
    "    return ret"
   ]
  },
  {
   "cell_type": "code",
   "execution_count": 53,
   "id": "c91631e4",
   "metadata": {},
   "outputs": [],
   "source": [
    "data[\"legit\"][\"fr_fo\"] = friends_followers_ratio(data[\"legit\"][\"friends_count\"], data[\"legit\"][\"followers_count\"])\n",
    "data[\"legit\"][\"has_fav\"] = has_favourites(data[\"legit\"][\"favourites_count\"])\n",
    "data[\"legit\"][\"is_listed\"] = is_listed(data[\"legit\"][\"listed_count\"])\n",
    "data[\"legit\"][\"url\"] = has_url(data[\"legit\"][\"url\"])\n",
    "data[\"legit\"][\"time_zone\"] = has_timezone(data[\"legit\"][\"time_zone\"])\n",
    "data[\"legit\"][\"default_profile\"] = is_default_profile(data[\"legit\"][\"default_profile\"])\n",
    "data[\"legit\"][\"description\"] = has_description(data[\"legit\"][\"description\"])\n",
    "\n",
    "data[\"fake\"][\"fr_fo\"] = friends_followers_ratio(data[\"fake\"][\"friends_count\"], data[\"fake\"][\"followers_count\"])\n",
    "data[\"fake\"][\"has_fav\"] = has_favourites(data[\"fake\"][\"favourites_count\"])\n",
    "data[\"fake\"][\"is_listed\"] = is_listed(data[\"fake\"][\"listed_count\"])\n",
    "data[\"fake\"][\"url\"] = has_url(data[\"fake\"][\"url\"])\n",
    "data[\"fake\"][\"time_zone\"] = has_timezone(data[\"fake\"][\"time_zone\"])\n",
    "data[\"fake\"][\"default_profile\"] = is_default_profile(data[\"fake\"][\"default_profile\"])\n",
    "data[\"fake\"][\"description\"] = has_description(data[\"fake\"][\"description\"])\n"
   ]
  },
  {
   "cell_type": "code",
   "execution_count": 54,
   "id": "179b183c",
   "metadata": {},
   "outputs": [],
   "source": [
    "data[\"legit\"].drop([\"followers_count\", \"friends_count\", \"favourites_count\", \"listed_count\"],axis=1, inplace=True)\n",
    "data[\"fake\"].drop([\"followers_count\", \"friends_count\", \"favourites_count\", \"listed_count\"],axis=1, inplace=True)"
   ]
  },
  {
   "cell_type": "code",
   "execution_count": 55,
   "id": "0fe1b3c0",
   "metadata": {},
   "outputs": [
    {
     "name": "stdout",
     "output_type": "stream",
     "text": [
      "Final Available Columns  7\n"
     ]
    },
    {
     "data": {
      "text/plain": [
       "Index(['url', 'time_zone', 'default_profile', 'description', 'fr_fo',\n",
       "       'has_fav', 'is_listed'],\n",
       "      dtype='object')"
      ]
     },
     "execution_count": 55,
     "metadata": {},
     "output_type": "execute_result"
    }
   ],
   "source": [
    "print(\"Final Available Columns \", len(data[\"legit\"].columns))\n",
    "data[\"legit\"].columns"
   ]
  },
  {
   "cell_type": "code",
   "execution_count": 56,
   "id": "7af47332",
   "metadata": {},
   "outputs": [
    {
     "name": "stdout",
     "output_type": "stream",
     "text": [
      "number of legit accounts : 1481\n",
      "number of fake accounts  : 1337\n"
     ]
    }
   ],
   "source": [
    "print(f\"number of legit accounts : {len(data['legit'])}\")\n",
    "print(f\"number of fake accounts  : {len(data['fake'])}\")"
   ]
  },
  {
   "cell_type": "code",
   "execution_count": 57,
   "id": "a47af7ff",
   "metadata": {},
   "outputs": [],
   "source": [
    "data[\"legit\"] = data[\"legit\"].values\n",
    "data[\"fake\"] = data[\"fake\"].values"
   ]
  },
  {
   "cell_type": "code",
   "execution_count": 58,
   "id": "539da12f",
   "metadata": {},
   "outputs": [],
   "source": [
    "data[\"legit\"] = data[\"legit\"].astype(np.float64)\n",
    "data[\"fake\"] = data[\"fake\"].astype(np.float64)"
   ]
  },
  {
   "cell_type": "code",
   "execution_count": 59,
   "id": "a3347db1",
   "metadata": {},
   "outputs": [],
   "source": [
    "n_legit = len(data[\"legit\"])\n",
    "n_fake = len(data[\"fake\"])\n",
    "\n",
    "train_legit = data[\"legit\"][:int(n_legit*.8)]\n",
    "train_fake = data[\"fake\"][:int(n_fake*.8)]\n",
    "\n",
    "test_legit = data[\"legit\"][int(n_legit*.8):]\n",
    "test_fake = data[\"fake\"][int(n_fake*.8):]\n",
    "\n",
    "valid_legit = train_legit[int(len(train_legit)*.8):]\n",
    "valid_fake = train_fake[int(len(train_fake)*.8):]\n",
    "train_legit = train_legit[:int(len(train_legit)*.8)]\n",
    "train_fake = train_fake[:int(len(train_fake)*.8)]"
   ]
  },
  {
   "cell_type": "code",
   "execution_count": 60,
   "id": "9055b27e",
   "metadata": {},
   "outputs": [],
   "source": [
    "import math\n",
    "\n",
    "def get_class_weights(labels):\n",
    "    n_classes = len(labels[0])\n",
    "    class_counts = [0 for _ in range(int(n_classes))]\n",
    "    for label in labels:\n",
    "        class_counts[label.index(1)] += 1\n",
    "    return {i : (1. / class_counts[i]) * float(len(labels)) / float(n_classes) for i in range(int(n_classes))}"
   ]
  },
  {
   "cell_type": "code",
   "execution_count": 61,
   "id": "03e11b63",
   "metadata": {},
   "outputs": [],
   "source": [
    "x_train = []\n",
    "y_train = []\n",
    "x_valid = []\n",
    "y_valid = []\n",
    "x_test = []\n",
    "y_test = []\n",
    "class_counts = [0,0]\n",
    "\n",
    "# legit -> [1.,0.]\n",
    "# fake -> [0.,1.]\n",
    "\n",
    "for legit in train_legit:\n",
    "    x_train.append(legit)\n",
    "    y_train.append([1.,0.])\n",
    "    class_counts[0] += 1\n",
    "    \n",
    "for fake in train_fake:\n",
    "    x_train.append(fake)\n",
    "    y_train.append([0.,1.])\n",
    "    class_counts[1] += 1\n",
    "    \n",
    "for legit in valid_legit:\n",
    "    x_valid.append(legit)\n",
    "    y_valid.append([1.,0.])\n",
    "    \n",
    "for fake in valid_fake:\n",
    "    x_valid.append(fake)\n",
    "    y_valid.append([0.,1.])\n",
    "\n",
    "for legit in test_legit:\n",
    "    x_test.append(legit)\n",
    "    y_test.append([1.,0.])\n",
    "    \n",
    "for fake in test_fake:\n",
    "    x_test.append(fake)\n",
    "    y_test.append([0.,1.])\n",
    "\n",
    "class_weights = get_class_weights(y_train)\n",
    "    \n",
    "x_train = np.array(x_train)\n",
    "y_train = np.array(y_train)\n",
    "x_valid = np.array(x_valid)\n",
    "y_valid = np.array(y_valid)\n",
    "x_test = np.array(x_test)\n",
    "y_test = np.array(y_test)"
   ]
  },
  {
   "cell_type": "code",
   "execution_count": 62,
   "id": "0cefed58",
   "metadata": {},
   "outputs": [
    {
     "data": {
      "text/plain": [
       "{0: 0.9514255543822597, 1: 1.0538011695906433}"
      ]
     },
     "execution_count": 62,
     "metadata": {},
     "output_type": "execute_result"
    }
   ],
   "source": [
    "class_weights"
   ]
  },
  {
   "cell_type": "code",
   "execution_count": 63,
   "id": "7b8cf725",
   "metadata": {},
   "outputs": [],
   "source": [
    "import tensorflow as tf"
   ]
  },
  {
   "cell_type": "code",
   "execution_count": 64,
   "id": "54cc26a1",
   "metadata": {},
   "outputs": [
    {
     "name": "stdout",
     "output_type": "stream",
     "text": [
      "Model: \"model_2\"\n",
      "_________________________________________________________________\n",
      "Layer (type)                 Output Shape              Param #   \n",
      "=================================================================\n",
      "input_3 (InputLayer)         [(None, 7)]               0         \n",
      "_________________________________________________________________\n",
      "dense_6 (Dense)              (None, 16)                128       \n",
      "_________________________________________________________________\n",
      "batch_normalization_4 (Batch (None, 16)                64        \n",
      "_________________________________________________________________\n",
      "dense_7 (Dense)              (None, 8)                 136       \n",
      "_________________________________________________________________\n",
      "batch_normalization_5 (Batch (None, 8)                 32        \n",
      "_________________________________________________________________\n",
      "dense_8 (Dense)              (None, 2)                 18        \n",
      "=================================================================\n",
      "Total params: 378\n",
      "Trainable params: 330\n",
      "Non-trainable params: 48\n",
      "_________________________________________________________________\n"
     ]
    }
   ],
   "source": [
    "x = tf.keras.Input((7))\n",
    "y = tf.keras.layers.Dense(16, activation=\"relu\", kernel_regularizer=\"l2\")(x)\n",
    "y = tf.keras.layers.BatchNormalization()(y)\n",
    "y = tf.keras.layers.Dense(8, activation=\"relu\", kernel_regularizer=\"l2\")(y)\n",
    "y = tf.keras.layers.BatchNormalization()(y)\n",
    "y = tf.keras.layers.Dense(2, activation=\"softmax\", kernel_regularizer=\"l2\")(y)\n",
    "model = tf.keras.models.Model(x, y)\n",
    "\n",
    "model.compile(\n",
    "    optimizer=\"adam\",\n",
    "    loss=\"categorical_crossentropy\",\n",
    "    metrics=[\"acc\"]\n",
    ")\n",
    "model.summary()"
   ]
  },
  {
   "cell_type": "code",
   "execution_count": 65,
   "id": "70e7cc52",
   "metadata": {},
   "outputs": [],
   "source": [
    "early_stopping = tf.keras.callbacks.EarlyStopping(monitor='val_loss', patience=15, restore_best_weights=True)\n",
    "reduceLR_cb = tf.keras.callbacks.ReduceLROnPlateau(\n",
    "          monitor='val_loss', factor=0.5, patience=10,\n",
    "          min_delta=0.0001, verbose=1)"
   ]
  },
  {
   "cell_type": "code",
   "execution_count": 66,
   "id": "8cd0cd23",
   "metadata": {
    "scrolled": true
   },
   "outputs": [
    {
     "name": "stdout",
     "output_type": "stream",
     "text": [
      "Epoch 1/200\n",
      "15/15 [==============================] - 1s 31ms/step - loss: 0.5387 - acc: 0.9018 - val_loss: 0.7192 - val_acc: 0.7228\n",
      "Epoch 2/200\n",
      "15/15 [==============================] - 0s 14ms/step - loss: 0.3824 - acc: 0.9778 - val_loss: 0.6348 - val_acc: 0.8670\n",
      "Epoch 3/200\n",
      "15/15 [==============================] - 0s 15ms/step - loss: 0.3503 - acc: 0.9850 - val_loss: 0.5682 - val_acc: 0.9091\n",
      "Epoch 4/200\n",
      "15/15 [==============================] - 0s 15ms/step - loss: 0.3253 - acc: 0.9850 - val_loss: 0.5086 - val_acc: 0.9512\n",
      "Epoch 5/200\n",
      "15/15 [==============================] - 0s 15ms/step - loss: 0.3129 - acc: 0.9872 - val_loss: 0.4642 - val_acc: 0.9712\n",
      "Epoch 6/200\n",
      "15/15 [==============================] - 0s 14ms/step - loss: 0.2915 - acc: 0.9867 - val_loss: 0.4307 - val_acc: 0.9756\n",
      "Epoch 7/200\n",
      "15/15 [==============================] - 0s 14ms/step - loss: 0.2805 - acc: 0.9872 - val_loss: 0.4055 - val_acc: 0.9845\n",
      "Epoch 8/200\n",
      "15/15 [==============================] - 0s 15ms/step - loss: 0.2665 - acc: 0.9878 - val_loss: 0.3844 - val_acc: 0.9845\n",
      "Epoch 9/200\n",
      "15/15 [==============================] - 0s 16ms/step - loss: 0.2559 - acc: 0.9900 - val_loss: 0.3682 - val_acc: 0.9823\n",
      "Epoch 10/200\n",
      "15/15 [==============================] - 0s 15ms/step - loss: 0.2470 - acc: 0.9900 - val_loss: 0.3553 - val_acc: 0.9756\n",
      "Epoch 11/200\n",
      "15/15 [==============================] - 0s 16ms/step - loss: 0.2373 - acc: 0.9889 - val_loss: 0.3456 - val_acc: 0.9778\n",
      "Epoch 12/200\n",
      "15/15 [==============================] - 0s 15ms/step - loss: 0.2312 - acc: 0.9883 - val_loss: 0.3421 - val_acc: 0.9756\n",
      "Epoch 13/200\n",
      "15/15 [==============================] - 0s 16ms/step - loss: 0.2223 - acc: 0.9883 - val_loss: 0.3366 - val_acc: 0.9778\n",
      "Epoch 14/200\n",
      "15/15 [==============================] - 0s 12ms/step - loss: 0.2126 - acc: 0.9911 - val_loss: 0.3284 - val_acc: 0.9778\n",
      "Epoch 15/200\n",
      "15/15 [==============================] - 0s 17ms/step - loss: 0.2054 - acc: 0.9917 - val_loss: 0.3238 - val_acc: 0.9778\n",
      "Epoch 16/200\n",
      "15/15 [==============================] - 0s 14ms/step - loss: 0.1997 - acc: 0.9922 - val_loss: 0.3189 - val_acc: 0.9734\n",
      "Epoch 17/200\n",
      "15/15 [==============================] - 0s 15ms/step - loss: 0.1938 - acc: 0.9911 - val_loss: 0.3042 - val_acc: 0.9778\n",
      "Epoch 18/200\n",
      "15/15 [==============================] - 0s 15ms/step - loss: 0.1898 - acc: 0.9895 - val_loss: 0.3028 - val_acc: 0.9778\n",
      "Epoch 19/200\n",
      "15/15 [==============================] - 0s 21ms/step - loss: 0.1815 - acc: 0.9906 - val_loss: 0.3002 - val_acc: 0.9800\n",
      "Epoch 20/200\n",
      "15/15 [==============================] - 0s 16ms/step - loss: 0.1772 - acc: 0.9928 - val_loss: 0.2964 - val_acc: 0.9800\n",
      "Epoch 21/200\n",
      "15/15 [==============================] - 0s 17ms/step - loss: 0.1715 - acc: 0.9917 - val_loss: 0.2948 - val_acc: 0.9778\n",
      "Epoch 22/200\n",
      "15/15 [==============================] - 0s 18ms/step - loss: 0.1663 - acc: 0.9917 - val_loss: 0.2859 - val_acc: 0.9778\n",
      "Epoch 23/200\n",
      "15/15 [==============================] - 0s 18ms/step - loss: 0.1601 - acc: 0.9922 - val_loss: 0.2825 - val_acc: 0.9756\n",
      "Epoch 24/200\n",
      "15/15 [==============================] - 0s 17ms/step - loss: 0.1570 - acc: 0.9939 - val_loss: 0.2809 - val_acc: 0.9756\n",
      "Epoch 25/200\n",
      "15/15 [==============================] - 0s 17ms/step - loss: 0.1518 - acc: 0.9917 - val_loss: 0.2751 - val_acc: 0.9778\n",
      "Epoch 26/200\n",
      "15/15 [==============================] - 0s 18ms/step - loss: 0.1472 - acc: 0.9933 - val_loss: 0.2673 - val_acc: 0.9800\n",
      "Epoch 27/200\n",
      "15/15 [==============================] - 0s 16ms/step - loss: 0.1449 - acc: 0.9928 - val_loss: 0.2661 - val_acc: 0.9823\n",
      "Epoch 28/200\n",
      "15/15 [==============================] - 0s 17ms/step - loss: 0.1407 - acc: 0.9922 - val_loss: 0.2676 - val_acc: 0.9823\n",
      "Epoch 29/200\n",
      "15/15 [==============================] - 0s 20ms/step - loss: 0.1351 - acc: 0.9945 - val_loss: 0.2588 - val_acc: 0.9823\n",
      "Epoch 30/200\n",
      "15/15 [==============================] - 0s 16ms/step - loss: 0.1312 - acc: 0.9945 - val_loss: 0.2527 - val_acc: 0.9823\n",
      "Epoch 31/200\n",
      "15/15 [==============================] - 0s 16ms/step - loss: 0.1290 - acc: 0.9945 - val_loss: 0.2559 - val_acc: 0.9823\n",
      "Epoch 32/200\n",
      "15/15 [==============================] - 0s 16ms/step - loss: 0.1240 - acc: 0.9945 - val_loss: 0.2609 - val_acc: 0.9823\n",
      "Epoch 33/200\n",
      "15/15 [==============================] - 0s 15ms/step - loss: 0.1221 - acc: 0.9950 - val_loss: 0.2720 - val_acc: 0.9823\n",
      "Epoch 34/200\n",
      "15/15 [==============================] - 0s 15ms/step - loss: 0.1188 - acc: 0.9939 - val_loss: 0.2676 - val_acc: 0.9845\n",
      "Epoch 35/200\n",
      "15/15 [==============================] - 0s 15ms/step - loss: 0.1163 - acc: 0.9956 - val_loss: 0.2620 - val_acc: 0.9845\n",
      "Epoch 36/200\n",
      "15/15 [==============================] - 0s 15ms/step - loss: 0.1190 - acc: 0.9922 - val_loss: 0.2669 - val_acc: 0.9867\n",
      "Epoch 37/200\n",
      "15/15 [==============================] - 0s 15ms/step - loss: 0.1108 - acc: 0.9950 - val_loss: 0.4194 - val_acc: 0.7406\n",
      "Epoch 38/200\n",
      "15/15 [==============================] - 0s 13ms/step - loss: 0.1092 - acc: 0.9950 - val_loss: 0.3402 - val_acc: 0.9933\n",
      "Epoch 39/200\n",
      "15/15 [==============================] - 0s 14ms/step - loss: 0.1114 - acc: 0.9933 - val_loss: 0.3127 - val_acc: 0.9956\n",
      "Epoch 40/200\n",
      "15/15 [==============================] - 0s 15ms/step - loss: 0.1054 - acc: 0.9945 - val_loss: 0.4801 - val_acc: 0.6984\n",
      "\n",
      "Epoch 00040: ReduceLROnPlateau reducing learning rate to 0.0005000000237487257.\n",
      "Epoch 41/200\n",
      "15/15 [==============================] - 0s 15ms/step - loss: 0.1046 - acc: 0.9950 - val_loss: 0.4289 - val_acc: 0.7206\n",
      "Epoch 42/200\n",
      "15/15 [==============================] - 0s 16ms/step - loss: 0.1036 - acc: 0.9950 - val_loss: 0.3504 - val_acc: 0.9135\n",
      "Epoch 43/200\n",
      "15/15 [==============================] - 0s 16ms/step - loss: 0.1029 - acc: 0.9950 - val_loss: 0.2964 - val_acc: 0.9933\n",
      "Epoch 44/200\n",
      "15/15 [==============================] - 0s 15ms/step - loss: 0.1024 - acc: 0.9956 - val_loss: 0.2663 - val_acc: 0.9933\n",
      "Epoch 45/200\n",
      "15/15 [==============================] - 0s 17ms/step - loss: 0.1002 - acc: 0.9950 - val_loss: 0.2206 - val_acc: 0.9956\n",
      "Epoch 46/200\n",
      "15/15 [==============================] - 0s 19ms/step - loss: 0.0972 - acc: 0.9961 - val_loss: 0.1925 - val_acc: 0.9956\n",
      "Epoch 47/200\n",
      "15/15 [==============================] - 0s 19ms/step - loss: 0.0967 - acc: 0.9956 - val_loss: 0.1713 - val_acc: 0.9956\n",
      "Epoch 48/200\n",
      "15/15 [==============================] - 0s 17ms/step - loss: 0.0965 - acc: 0.9945 - val_loss: 0.1521 - val_acc: 0.9956\n",
      "Epoch 49/200\n",
      "15/15 [==============================] - 0s 18ms/step - loss: 0.0936 - acc: 0.9961 - val_loss: 0.1422 - val_acc: 0.9933\n",
      "Epoch 50/200\n",
      "15/15 [==============================] - 0s 17ms/step - loss: 0.0944 - acc: 0.9950 - val_loss: 0.1368 - val_acc: 0.9911\n",
      "Epoch 51/200\n",
      "15/15 [==============================] - 0s 18ms/step - loss: 0.0932 - acc: 0.9939 - val_loss: 0.1323 - val_acc: 0.9911\n",
      "Epoch 52/200\n",
      "15/15 [==============================] - 0s 18ms/step - loss: 0.0909 - acc: 0.9961 - val_loss: 0.1300 - val_acc: 0.9911\n",
      "Epoch 53/200\n",
      "15/15 [==============================] - 0s 16ms/step - loss: 0.0903 - acc: 0.9961 - val_loss: 0.1277 - val_acc: 0.9911\n",
      "Epoch 54/200\n",
      "15/15 [==============================] - 0s 18ms/step - loss: 0.0903 - acc: 0.9950 - val_loss: 0.1238 - val_acc: 0.9911\n",
      "Epoch 55/200\n",
      "15/15 [==============================] - 0s 18ms/step - loss: 0.0884 - acc: 0.9950 - val_loss: 0.1184 - val_acc: 0.9933\n",
      "Epoch 56/200\n",
      "15/15 [==============================] - 0s 19ms/step - loss: 0.0892 - acc: 0.9950 - val_loss: 0.1174 - val_acc: 0.9911\n",
      "Epoch 57/200\n",
      "15/15 [==============================] - 0s 14ms/step - loss: 0.0873 - acc: 0.9950 - val_loss: 0.1178 - val_acc: 0.9911\n",
      "Epoch 58/200\n",
      "15/15 [==============================] - 0s 16ms/step - loss: 0.0878 - acc: 0.9945 - val_loss: 0.1228 - val_acc: 0.9911\n",
      "Epoch 59/200\n",
      "15/15 [==============================] - 0s 18ms/step - loss: 0.0847 - acc: 0.9967 - val_loss: 0.1650 - val_acc: 0.9933\n",
      "Epoch 60/200\n",
      "15/15 [==============================] - 0s 19ms/step - loss: 0.0831 - acc: 0.9956 - val_loss: 0.1566 - val_acc: 0.9933\n",
      "Epoch 61/200\n",
      "15/15 [==============================] - 0s 16ms/step - loss: 0.0844 - acc: 0.9967 - val_loss: 0.1356 - val_acc: 0.9933\n",
      "Epoch 62/200\n"
     ]
    },
    {
     "name": "stdout",
     "output_type": "stream",
     "text": [
      "15/15 [==============================] - 0s 18ms/step - loss: 0.0812 - acc: 0.9967 - val_loss: 0.1214 - val_acc: 0.9933\n",
      "Epoch 63/200\n",
      "15/15 [==============================] - 0s 16ms/step - loss: 0.0809 - acc: 0.9961 - val_loss: 0.1144 - val_acc: 0.9956\n",
      "Epoch 64/200\n",
      "15/15 [==============================] - 0s 16ms/step - loss: 0.0797 - acc: 0.9967 - val_loss: 0.1080 - val_acc: 0.9956\n",
      "Epoch 65/200\n",
      "15/15 [==============================] - 0s 18ms/step - loss: 0.0794 - acc: 0.9950 - val_loss: 0.1032 - val_acc: 0.9933\n",
      "Epoch 66/200\n",
      "15/15 [==============================] - 0s 17ms/step - loss: 0.0793 - acc: 0.9945 - val_loss: 0.1046 - val_acc: 0.9956\n",
      "Epoch 67/200\n",
      "15/15 [==============================] - 0s 16ms/step - loss: 0.0776 - acc: 0.9961 - val_loss: 0.1007 - val_acc: 0.9933\n",
      "Epoch 68/200\n",
      "15/15 [==============================] - 0s 17ms/step - loss: 0.0789 - acc: 0.9956 - val_loss: 0.0987 - val_acc: 0.9933\n",
      "Epoch 69/200\n",
      "15/15 [==============================] - 0s 17ms/step - loss: 0.0768 - acc: 0.9956 - val_loss: 0.0994 - val_acc: 0.9933\n",
      "Epoch 70/200\n",
      "15/15 [==============================] - 0s 17ms/step - loss: 0.0758 - acc: 0.9961 - val_loss: 0.0918 - val_acc: 0.9911\n",
      "Epoch 71/200\n",
      "15/15 [==============================] - 0s 17ms/step - loss: 0.0751 - acc: 0.9950 - val_loss: 0.0896 - val_acc: 0.9933\n",
      "Epoch 72/200\n",
      "15/15 [==============================] - 0s 17ms/step - loss: 0.0759 - acc: 0.9950 - val_loss: 0.0877 - val_acc: 0.9933\n",
      "Epoch 73/200\n",
      "15/15 [==============================] - 0s 17ms/step - loss: 0.0721 - acc: 0.9961 - val_loss: 0.0867 - val_acc: 0.9933\n",
      "Epoch 74/200\n",
      "15/15 [==============================] - 0s 17ms/step - loss: 0.0726 - acc: 0.9950 - val_loss: 0.0875 - val_acc: 0.9911\n",
      "Epoch 75/200\n",
      "15/15 [==============================] - 0s 17ms/step - loss: 0.0710 - acc: 0.9961 - val_loss: 0.0882 - val_acc: 0.9911\n",
      "Epoch 76/200\n",
      "15/15 [==============================] - 0s 17ms/step - loss: 0.0702 - acc: 0.9956 - val_loss: 0.0869 - val_acc: 0.9911\n",
      "Epoch 77/200\n",
      "15/15 [==============================] - 0s 17ms/step - loss: 0.0709 - acc: 0.9961 - val_loss: 0.0861 - val_acc: 0.9911\n",
      "Epoch 78/200\n",
      "15/15 [==============================] - 0s 14ms/step - loss: 0.0698 - acc: 0.9961 - val_loss: 0.0823 - val_acc: 0.9933\n",
      "Epoch 79/200\n",
      "15/15 [==============================] - 0s 18ms/step - loss: 0.0702 - acc: 0.9956 - val_loss: 0.0821 - val_acc: 0.9933\n",
      "Epoch 80/200\n",
      "15/15 [==============================] - 0s 17ms/step - loss: 0.0680 - acc: 0.9967 - val_loss: 0.0845 - val_acc: 0.9933\n",
      "Epoch 81/200\n",
      "15/15 [==============================] - 0s 17ms/step - loss: 0.0676 - acc: 0.9950 - val_loss: 0.0847 - val_acc: 0.9956\n",
      "Epoch 82/200\n",
      "15/15 [==============================] - 0s 19ms/step - loss: 0.0670 - acc: 0.9961 - val_loss: 0.0838 - val_acc: 0.9956\n",
      "Epoch 83/200\n",
      "15/15 [==============================] - 0s 16ms/step - loss: 0.0665 - acc: 0.9961 - val_loss: 0.0754 - val_acc: 0.9911\n",
      "Epoch 84/200\n",
      "15/15 [==============================] - 0s 18ms/step - loss: 0.0693 - acc: 0.9956 - val_loss: 0.0758 - val_acc: 0.9911\n",
      "Epoch 85/200\n",
      "15/15 [==============================] - 0s 18ms/step - loss: 0.0671 - acc: 0.9956 - val_loss: 0.0748 - val_acc: 0.9911\n",
      "Epoch 86/200\n",
      "15/15 [==============================] - 0s 17ms/step - loss: 0.0646 - acc: 0.9956 - val_loss: 0.0748 - val_acc: 0.9933\n",
      "Epoch 87/200\n",
      "15/15 [==============================] - 0s 17ms/step - loss: 0.0637 - acc: 0.9961 - val_loss: 0.0739 - val_acc: 0.9933\n",
      "Epoch 88/200\n",
      "15/15 [==============================] - 0s 18ms/step - loss: 0.0634 - acc: 0.9967 - val_loss: 0.0741 - val_acc: 0.9933\n",
      "Epoch 89/200\n",
      "15/15 [==============================] - 0s 16ms/step - loss: 0.0634 - acc: 0.9950 - val_loss: 0.0737 - val_acc: 0.9933\n",
      "Epoch 90/200\n",
      "15/15 [==============================] - 0s 17ms/step - loss: 0.0618 - acc: 0.9972 - val_loss: 0.0749 - val_acc: 0.9933\n",
      "Epoch 91/200\n",
      "15/15 [==============================] - 0s 18ms/step - loss: 0.0610 - acc: 0.9967 - val_loss: 0.0750 - val_acc: 0.9933\n",
      "Epoch 92/200\n",
      "15/15 [==============================] - 0s 18ms/step - loss: 0.0645 - acc: 0.9956 - val_loss: 0.0769 - val_acc: 0.9933\n",
      "Epoch 93/200\n",
      "15/15 [==============================] - 0s 17ms/step - loss: 0.0637 - acc: 0.9956 - val_loss: 0.1075 - val_acc: 0.9911\n",
      "Epoch 94/200\n",
      "15/15 [==============================] - 0s 17ms/step - loss: 0.0645 - acc: 0.9956 - val_loss: 0.0961 - val_acc: 0.9889\n",
      "Epoch 95/200\n",
      "15/15 [==============================] - 0s 17ms/step - loss: 0.0612 - acc: 0.9967 - val_loss: 0.0885 - val_acc: 0.9911\n",
      "Epoch 96/200\n",
      "15/15 [==============================] - 0s 18ms/step - loss: 0.0602 - acc: 0.9961 - val_loss: 0.0862 - val_acc: 0.9911\n",
      "Epoch 97/200\n",
      "15/15 [==============================] - 0s 17ms/step - loss: 0.0598 - acc: 0.9967 - val_loss: 0.0853 - val_acc: 0.9911\n",
      "Epoch 98/200\n",
      "15/15 [==============================] - 0s 15ms/step - loss: 0.0588 - acc: 0.9956 - val_loss: 0.0853 - val_acc: 0.9911\n",
      "Epoch 99/200\n",
      "15/15 [==============================] - 0s 17ms/step - loss: 0.0584 - acc: 0.9972 - val_loss: 0.0835 - val_acc: 0.9911\n",
      "\n",
      "Epoch 00099: ReduceLROnPlateau reducing learning rate to 0.0002500000118743628.\n",
      "Epoch 100/200\n",
      "15/15 [==============================] - 0s 15ms/step - loss: 0.0592 - acc: 0.9961 - val_loss: 0.0823 - val_acc: 0.9911\n",
      "Epoch 101/200\n",
      "15/15 [==============================] - 0s 17ms/step - loss: 0.0580 - acc: 0.9961 - val_loss: 0.0818 - val_acc: 0.9911\n",
      "Epoch 102/200\n",
      "15/15 [==============================] - 0s 18ms/step - loss: 0.0593 - acc: 0.9972 - val_loss: 0.0811 - val_acc: 0.9911\n",
      "Epoch 103/200\n",
      "15/15 [==============================] - 0s 17ms/step - loss: 0.0584 - acc: 0.9956 - val_loss: 0.0785 - val_acc: 0.9911\n",
      "Epoch 104/200\n",
      "15/15 [==============================] - 0s 17ms/step - loss: 0.0594 - acc: 0.9961 - val_loss: 0.0777 - val_acc: 0.9911\n"
     ]
    },
    {
     "data": {
      "text/plain": [
       "<tensorflow.python.keras.callbacks.History at 0x22f0d00bdc0>"
      ]
     },
     "execution_count": 66,
     "metadata": {},
     "output_type": "execute_result"
    }
   ],
   "source": [
    "model.fit(x_train, y_train, epochs=200, validation_data=(x_valid, y_valid), shuffle=True, batch_size=128, callbacks=[early_stopping,reduceLR_cb], class_weight=class_weights)"
   ]
  },
  {
   "cell_type": "code",
   "execution_count": 67,
   "id": "6acd9472",
   "metadata": {
    "scrolled": true
   },
   "outputs": [
    {
     "name": "stdout",
     "output_type": "stream",
     "text": [
      "18/18 [==============================] - 0s 9ms/step - loss: 0.0717 - acc: 0.9929\n"
     ]
    },
    {
     "data": {
      "text/plain": [
       "[0.07171624898910522, 0.9929203391075134]"
      ]
     },
     "execution_count": 67,
     "metadata": {},
     "output_type": "execute_result"
    }
   ],
   "source": [
    "model.evaluate(x_test, y_test)"
   ]
  },
  {
   "cell_type": "code",
   "execution_count": 68,
   "id": "32775f7e",
   "metadata": {},
   "outputs": [],
   "source": [
    "preds = model.predict(x_test)"
   ]
  },
  {
   "cell_type": "code",
   "execution_count": 69,
   "id": "8c95d403",
   "metadata": {},
   "outputs": [
    {
     "data": {
      "text/plain": [
       "array([[295,   2],\n",
       "       [  2, 266]], dtype=int64)"
      ]
     },
     "execution_count": 69,
     "metadata": {},
     "output_type": "execute_result"
    }
   ],
   "source": [
    "conf = confusion_matrix(np.argmax(y_test,-1), np.argmax(preds,-1))\n",
    "conf"
   ]
  },
  {
   "cell_type": "code",
   "execution_count": 70,
   "id": "1dfeb970",
   "metadata": {},
   "outputs": [],
   "source": [
    "import matplotlib.pyplot as plt\n",
    "def plot_confusion_matrix(cm, title='CONFUSION MATRIX', cmap=plt.cm.Reds):\n",
    "    target_names=['Legit','Fake']\n",
    "    plt.imshow(cm, interpolation='nearest', cmap=cmap)\n",
    "    plt.title(title)\n",
    "    plt.colorbar()\n",
    "    tick_marks = np.arange(len(target_names))\n",
    "    plt.xticks(tick_marks, target_names, rotation=45)\n",
    "    plt.yticks(tick_marks, target_names)\n",
    "    plt.tight_layout()\n",
    "    plt.ylabel('True label')\n",
    "    plt.xlabel('Predicted label')"
   ]
  },
  {
   "cell_type": "code",
   "execution_count": 71,
   "id": "75c630cd",
   "metadata": {},
   "outputs": [
    {
     "data": {
      "image/png": "[encoded data removed]",
      "text/plain": [
       "<Figure size 432x288 with 2 Axes>"
      ]
     },
     "metadata": {
      "needs_background": "light"
     },
     "output_type": "display_data"
    }
   ],
   "source": [
    "plot_confusion_matrix(conf)"
   ]
  },
  {
   "cell_type": "code",
   "execution_count": 72,
   "id": "3c88dbe7",
   "metadata": {},
   "outputs": [],
   "source": [
    "model.save(\"./model/classifier_1.h5\")"
   ]
  }
 ],
 "metadata": {
  "kernelspec": {
   "display_name": "Python 3",
   "language": "python",
   "name": "python3"
  },
  "language_info": {
   "codemirror_mode": {
    "name": "ipython",
    "version": 3
   },
   "file_extension": ".py",
   "mimetype": "text/x-python",
   "name": "python",
   "nbconvert_exporter": "python",
   "pygments_lexer": "ipython3",
   "version": "3.8.10"
  }
 },
 "nbformat": 4,
 "nbformat_minor": 5
}
