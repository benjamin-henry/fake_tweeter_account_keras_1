{
 "cells": [
  {
   "cell_type": "code",
   "execution_count": 50,
   "id": "20e9fbc1",
   "metadata": {},
   "outputs": [],
   "source": [
    "import pandas as pd\n",
    "import numpy as np\n",
    "from sklearn.metrics import confusion_matrix\n",
    "from math import isnan"
   ]
  },
  {
   "cell_type": "code",
   "execution_count": 51,
   "id": "2515ad7a",
   "metadata": {},
   "outputs": [],
   "source": [
    "data = dict()\n",
    "data[\"fake\"]  = pd.read_csv(\"DATASET/fusers.csv\")\n",
    "data[\"legit\"] = pd.read_csv(\"DATASET/users.csv\")"
   ]
  },
  {
   "cell_type": "code",
   "execution_count": 53,
   "id": "e992e385",
   "metadata": {},
   "outputs": [],
   "source": [
    "data[\"legit\"] = data[\"legit\"].drop([\"id\", \"name\", \"screen_name\", \"statuses_count\", \"created_at\", \"lang\", \"location\", \"geo_enabled\", \"default_profile_image\", \"profile_image_url\", \"profile_banner_url\", \"profile_use_background_image\", \"profile_background_image_url_https\", \"profile_text_color\", \"profile_image_url_https\", \"profile_sidebar_border_color\", \"profile_background_tile\", \"profile_sidebar_fill_color\", \"profile_background_image_url\", \"profile_background_color\", \"profile_link_color\", \"utc_offset\", \"protected\", \"verified\", \"dataset\", \"updated\",\"time_zone\"], axis=1)\n",
    "data[\"fake\"]  = data[\"fake\"].drop([\"id\", \"name\", \"screen_name\", \"statuses_count\", \"created_at\", \"lang\", \"location\", \"geo_enabled\", \"default_profile_image\", \"profile_image_url\", \"profile_banner_url\", \"profile_use_background_image\", \"profile_background_image_url_https\", \"profile_text_color\", \"profile_image_url_https\", \"profile_sidebar_border_color\", \"profile_background_tile\", \"profile_sidebar_fill_color\", \"profile_background_image_url\", \"profile_background_color\", \"profile_link_color\", \"utc_offset\", \"protected\", \"verified\", \"dataset\", \"updated\", \"time_zone\"], axis=1)"
   ]
  },
  {
   "cell_type": "code",
   "execution_count": 54,
   "id": "05a0022a",
   "metadata": {},
   "outputs": [],
   "source": [
    "def is_default_profile(arr):\n",
    "    ret = []\n",
    "    for l in arr:\n",
    "        if l == 1.:\n",
    "            ret.append(1.)\n",
    "        else:\n",
    "            ret.append(-1.)\n",
    "    return ret\n",
    "\n",
    "def has_description(arr):\n",
    "    ret = []\n",
    "    for l in arr:\n",
    "        if type(l) == str:\n",
    "            ret.append(1.)\n",
    "        else:\n",
    "            ret.append(-1.)\n",
    "    return ret\n",
    "\n",
    "def has_url(arr):\n",
    "    ret = []\n",
    "    for l in arr:\n",
    "        if type(l) == str and len(l) > 0:\n",
    "            ret.append(1.)\n",
    "        else:\n",
    "            ret.append(-1.)\n",
    "    return ret\n",
    "\n",
    "def has_timezone(arr):\n",
    "    ret = []\n",
    "    for l in arr:\n",
    "        if type(l) == str and len(l) > 0:\n",
    "            ret.append(1.)\n",
    "        else:\n",
    "            ret.append(-1.)\n",
    "    return ret\n",
    "\n",
    "def is_listed(arr):\n",
    "    ret = []\n",
    "    for l in arr:\n",
    "        if l > 0.:\n",
    "            ret.append(1.)\n",
    "        else:\n",
    "            ret.append(-1.)\n",
    "    return ret\n",
    "\n",
    "def has_favourites(arr):\n",
    "    ret = []\n",
    "    for l in arr:\n",
    "        if l > 0.:\n",
    "            ret.append(1.)\n",
    "        else:\n",
    "            ret.append(-1.)\n",
    "    return ret\n",
    "\n",
    "def friends_followers_ratio(friends, followers):\n",
    "    ret = []\n",
    "    for fr, fo in zip(friends, followers):\n",
    "        if isnan(fo) or fo == 0.:\n",
    "            ret.append(-1.)\n",
    "        else:\n",
    "            ret.append(fr/fo)\n",
    "    return ret"
   ]
  },
  {
   "cell_type": "code",
   "execution_count": 55,
   "id": "c91631e4",
   "metadata": {},
   "outputs": [],
   "source": [
    "data[\"legit\"][\"fr_fo\"] = friends_followers_ratio(data[\"legit\"][\"friends_count\"], data[\"legit\"][\"followers_count\"])\n",
    "data[\"legit\"][\"has_fav\"] = has_favourites(data[\"legit\"][\"favourites_count\"])\n",
    "data[\"legit\"][\"is_listed\"] = is_listed(data[\"legit\"][\"listed_count\"])\n",
    "data[\"legit\"][\"url\"] = has_url(data[\"legit\"][\"url\"])\n",
    "data[\"legit\"][\"default_profile\"] = is_default_profile(data[\"legit\"][\"default_profile\"])\n",
    "data[\"legit\"][\"description\"] = has_description(data[\"legit\"][\"description\"])\n",
    "\n",
    "data[\"fake\"][\"fr_fo\"] = friends_followers_ratio(data[\"fake\"][\"friends_count\"], data[\"fake\"][\"followers_count\"])\n",
    "data[\"fake\"][\"has_fav\"] = has_favourites(data[\"fake\"][\"favourites_count\"])\n",
    "data[\"fake\"][\"is_listed\"] = is_listed(data[\"fake\"][\"listed_count\"])\n",
    "data[\"fake\"][\"url\"] = has_url(data[\"fake\"][\"url\"])\n",
    "data[\"fake\"][\"default_profile\"] = is_default_profile(data[\"fake\"][\"default_profile\"])\n",
    "data[\"fake\"][\"description\"] = has_description(data[\"fake\"][\"description\"])\n"
   ]
  },
  {
   "cell_type": "code",
   "execution_count": 56,
   "id": "179b183c",
   "metadata": {},
   "outputs": [],
   "source": [
    "data[\"legit\"].drop([\"followers_count\", \"friends_count\", \"favourites_count\", \"listed_count\"],axis=1, inplace=True)\n",
    "data[\"fake\"].drop([\"followers_count\", \"friends_count\", \"favourites_count\", \"listed_count\"],axis=1, inplace=True)"
   ]
  },
  {
   "cell_type": "code",
   "execution_count": 57,
   "id": "0fe1b3c0",
   "metadata": {},
   "outputs": [
    {
     "name": "stdout",
     "output_type": "stream",
     "text": [
      "Final Available Columns  6\n"
     ]
    },
    {
     "data": {
      "text/plain": [
       "Index(['url', 'default_profile', 'description', 'fr_fo', 'has_fav',\n",
       "       'is_listed'],\n",
       "      dtype='object')"
      ]
     },
     "execution_count": 57,
     "metadata": {},
     "output_type": "execute_result"
    }
   ],
   "source": [
    "print(\"Final Available Columns \", len(data[\"legit\"].columns))\n",
    "data[\"legit\"].columns"
   ]
  },
  {
   "cell_type": "code",
   "execution_count": 58,
   "id": "7af47332",
   "metadata": {},
   "outputs": [
    {
     "name": "stdout",
     "output_type": "stream",
     "text": [
      "number of legit accounts : 1481\n",
      "number of fake accounts  : 1337\n"
     ]
    }
   ],
   "source": [
    "print(f\"number of legit accounts : {len(data['legit'])}\")\n",
    "print(f\"number of fake accounts  : {len(data['fake'])}\")"
   ]
  },
  {
   "cell_type": "code",
   "execution_count": 59,
   "id": "a47af7ff",
   "metadata": {},
   "outputs": [],
   "source": [
    "data[\"legit\"] = data[\"legit\"].values\n",
    "data[\"fake\"] = data[\"fake\"].values"
   ]
  },
  {
   "cell_type": "code",
   "execution_count": 60,
   "id": "539da12f",
   "metadata": {},
   "outputs": [],
   "source": [
    "data[\"legit\"] = data[\"legit\"].astype(np.float64)\n",
    "data[\"fake\"] = data[\"fake\"].astype(np.float64)"
   ]
  },
  {
   "cell_type": "code",
   "execution_count": 61,
   "id": "a3347db1",
   "metadata": {},
   "outputs": [],
   "source": [
    "n_legit = len(data[\"legit\"])\n",
    "n_fake = len(data[\"fake\"])\n",
    "\n",
    "train_legit = data[\"legit\"][:int(n_legit*.8)]\n",
    "train_fake = data[\"fake\"][:int(n_fake*.8)]\n",
    "\n",
    "test_legit = data[\"legit\"][int(n_legit*.8):]\n",
    "test_fake = data[\"fake\"][int(n_fake*.8):]\n",
    "\n",
    "valid_legit = train_legit[int(len(train_legit)*.8):]\n",
    "valid_fake = train_fake[int(len(train_fake)*.8):]\n",
    "train_legit = train_legit[:int(len(train_legit)*.8)]\n",
    "train_fake = train_fake[:int(len(train_fake)*.8)]"
   ]
  },
  {
   "cell_type": "code",
   "execution_count": 62,
   "id": "9055b27e",
   "metadata": {},
   "outputs": [],
   "source": [
    "import math\n",
    "\n",
    "def get_class_weights(labels):\n",
    "    n_classes = len(labels[0])\n",
    "    class_counts = [0 for _ in range(int(n_classes))]\n",
    "    for label in labels:\n",
    "        class_counts[label.index(1)] += 1\n",
    "    return {i : (1. / class_counts[i]) * float(len(labels)) / float(n_classes) for i in range(int(n_classes))}"
   ]
  },
  {
   "cell_type": "code",
   "execution_count": 63,
   "id": "03e11b63",
   "metadata": {},
   "outputs": [],
   "source": [
    "x_train = []\n",
    "y_train = []\n",
    "x_valid = []\n",
    "y_valid = []\n",
    "x_test = []\n",
    "y_test = []\n",
    "class_counts = [0,0]\n",
    "\n",
    "# legit -> [1.,0.]\n",
    "# fake -> [0.,1.]\n",
    "\n",
    "for legit in train_legit:\n",
    "    x_train.append(legit)\n",
    "    y_train.append([1.,0.])\n",
    "    class_counts[0] += 1\n",
    "    \n",
    "for fake in train_fake:\n",
    "    x_train.append(fake)\n",
    "    y_train.append([0.,1.])\n",
    "    class_counts[1] += 1\n",
    "    \n",
    "for legit in valid_legit:\n",
    "    x_valid.append(legit)\n",
    "    y_valid.append([1.,0.])\n",
    "    \n",
    "for fake in valid_fake:\n",
    "    x_valid.append(fake)\n",
    "    y_valid.append([0.,1.])\n",
    "\n",
    "for legit in test_legit:\n",
    "    x_test.append(legit)\n",
    "    y_test.append([1.,0.])\n",
    "    \n",
    "for fake in test_fake:\n",
    "    x_test.append(fake)\n",
    "    y_test.append([0.,1.])\n",
    "\n",
    "class_weights = get_class_weights(y_train)\n",
    "    \n",
    "x_train = np.array(x_train)\n",
    "y_train = np.array(y_train)\n",
    "x_valid = np.array(x_valid)\n",
    "y_valid = np.array(y_valid)\n",
    "x_test = np.array(x_test)\n",
    "y_test = np.array(y_test)"
   ]
  },
  {
   "cell_type": "code",
   "execution_count": 64,
   "id": "0cefed58",
   "metadata": {},
   "outputs": [
    {
     "data": {
      "text/plain": [
       "{0: 0.9514255543822597, 1: 1.0538011695906433}"
      ]
     },
     "execution_count": 64,
     "metadata": {},
     "output_type": "execute_result"
    }
   ],
   "source": [
    "class_weights"
   ]
  },
  {
   "cell_type": "code",
   "execution_count": 65,
   "id": "7b8cf725",
   "metadata": {},
   "outputs": [],
   "source": [
    "import tensorflow as tf"
   ]
  },
  {
   "cell_type": "code",
   "execution_count": 98,
   "id": "54cc26a1",
   "metadata": {},
   "outputs": [
    {
     "name": "stdout",
     "output_type": "stream",
     "text": [
      "Model: \"model_8\"\n",
      "_________________________________________________________________\n",
      "Layer (type)                 Output Shape              Param #   \n",
      "=================================================================\n",
      "input_9 (InputLayer)         [(None, 6)]               0         \n",
      "_________________________________________________________________\n",
      "dense_24 (Dense)             (None, 16)                112       \n",
      "_________________________________________________________________\n",
      "batch_normalization_16 (Batc (None, 16)                64        \n",
      "_________________________________________________________________\n",
      "dense_25 (Dense)             (None, 8)                 136       \n",
      "_________________________________________________________________\n",
      "batch_normalization_17 (Batc (None, 8)                 32        \n",
      "_________________________________________________________________\n",
      "dense_26 (Dense)             (None, 2)                 18        \n",
      "=================================================================\n",
      "Total params: 362\n",
      "Trainable params: 314\n",
      "Non-trainable params: 48\n",
      "_________________________________________________________________\n"
     ]
    }
   ],
   "source": [
    "x = tf.keras.Input((6))\n",
    "y = tf.keras.layers.Dense(16, activation=\"relu\", kernel_regularizer=\"l2\")(x)\n",
    "y = tf.keras.layers.BatchNormalization()(y)\n",
    "y = tf.keras.layers.Dense(8, activation=\"relu\", kernel_regularizer=\"l2\")(y)\n",
    "y = tf.keras.layers.BatchNormalization()(y)\n",
    "y = tf.keras.layers.Dense(2, activation=\"softmax\", kernel_regularizer=\"l2\")(y)\n",
    "model = tf.keras.models.Model(x, y)\n",
    "\n",
    "model.compile(\n",
    "    optimizer=\"adam\",\n",
    "    loss=\"categorical_crossentropy\",\n",
    "    metrics=[\"acc\"]\n",
    ")\n",
    "model.summary()"
   ]
  },
  {
   "cell_type": "code",
   "execution_count": 99,
   "id": "70e7cc52",
   "metadata": {},
   "outputs": [],
   "source": [
    "early_stopping = tf.keras.callbacks.EarlyStopping(monitor='val_loss', patience=15, restore_best_weights=True)\n",
    "reduceLR_cb = tf.keras.callbacks.ReduceLROnPlateau(\n",
    "          monitor='val_loss', factor=0.5, patience=10,\n",
    "          min_delta=0.0001, verbose=1)"
   ]
  },
  {
   "cell_type": "code",
   "execution_count": 100,
   "id": "8cd0cd23",
   "metadata": {
    "scrolled": true
   },
   "outputs": [
    {
     "name": "stdout",
     "output_type": "stream",
     "text": [
      "Epoch 1/200\n",
      "8/8 [==============================] - 1s 49ms/step - loss: 0.9317 - acc: 0.5339 - val_loss: 1.3279 - val_acc: 0.4834\n",
      "Epoch 2/200\n",
      "8/8 [==============================] - 0s 16ms/step - loss: 0.8558 - acc: 0.6204 - val_loss: 1.1883 - val_acc: 0.4678\n",
      "Epoch 3/200\n",
      "8/8 [==============================] - 0s 17ms/step - loss: 0.7754 - acc: 0.7303 - val_loss: 1.0893 - val_acc: 0.4235\n",
      "Epoch 4/200\n",
      "8/8 [==============================] - 0s 17ms/step - loss: 0.7206 - acc: 0.8074 - val_loss: 1.0101 - val_acc: 0.3769\n",
      "Epoch 5/200\n",
      "8/8 [==============================] - 0s 17ms/step - loss: 0.6678 - acc: 0.8485 - val_loss: 0.9415 - val_acc: 0.4324\n",
      "Epoch 6/200\n",
      "8/8 [==============================] - 0s 16ms/step - loss: 0.6235 - acc: 0.8812 - val_loss: 0.8713 - val_acc: 0.5388\n",
      "Epoch 7/200\n",
      "8/8 [==============================] - 0s 16ms/step - loss: 0.5711 - acc: 0.9107 - val_loss: 0.8094 - val_acc: 0.7251\n",
      "Epoch 8/200\n",
      "8/8 [==============================] - 0s 16ms/step - loss: 0.5323 - acc: 0.9329 - val_loss: 0.7547 - val_acc: 0.8559\n",
      "Epoch 9/200\n",
      "8/8 [==============================] - 0s 15ms/step - loss: 0.4980 - acc: 0.9467 - val_loss: 0.7059 - val_acc: 0.9202\n",
      "Epoch 10/200\n",
      "8/8 [==============================] - 0s 17ms/step - loss: 0.4745 - acc: 0.9506 - val_loss: 0.6655 - val_acc: 0.9557\n",
      "Epoch 11/200\n",
      "8/8 [==============================] - 0s 18ms/step - loss: 0.4504 - acc: 0.9545 - val_loss: 0.6313 - val_acc: 0.9690\n",
      "Epoch 12/200\n",
      "8/8 [==============================] - 0s 16ms/step - loss: 0.4310 - acc: 0.9562 - val_loss: 0.5987 - val_acc: 0.9756\n",
      "Epoch 13/200\n",
      "8/8 [==============================] - 0s 17ms/step - loss: 0.4134 - acc: 0.9623 - val_loss: 0.5700 - val_acc: 0.9756\n",
      "Epoch 14/200\n",
      "8/8 [==============================] - 0s 16ms/step - loss: 0.3959 - acc: 0.9645 - val_loss: 0.5443 - val_acc: 0.9756\n",
      "Epoch 15/200\n",
      "8/8 [==============================] - 0s 17ms/step - loss: 0.3808 - acc: 0.9667 - val_loss: 0.5198 - val_acc: 0.9823\n",
      "Epoch 16/200\n",
      "8/8 [==============================] - 0s 16ms/step - loss: 0.3639 - acc: 0.9689 - val_loss: 0.4973 - val_acc: 0.9823\n",
      "Epoch 17/200\n",
      "8/8 [==============================] - 0s 17ms/step - loss: 0.3492 - acc: 0.9723 - val_loss: 0.4761 - val_acc: 0.9823\n",
      "Epoch 18/200\n",
      "8/8 [==============================] - 0s 22ms/step - loss: 0.3362 - acc: 0.9761 - val_loss: 0.4558 - val_acc: 0.9823\n",
      "Epoch 19/200\n",
      "8/8 [==============================] - 0s 21ms/step - loss: 0.3232 - acc: 0.9784 - val_loss: 0.4366 - val_acc: 0.9823\n",
      "Epoch 20/200\n",
      "8/8 [==============================] - 0s 21ms/step - loss: 0.3093 - acc: 0.9800 - val_loss: 0.4204 - val_acc: 0.9845\n",
      "Epoch 21/200\n",
      "8/8 [==============================] - 0s 20ms/step - loss: 0.2982 - acc: 0.9817 - val_loss: 0.4065 - val_acc: 0.9845\n",
      "Epoch 22/200\n",
      "8/8 [==============================] - 0s 17ms/step - loss: 0.2869 - acc: 0.9822 - val_loss: 0.3931 - val_acc: 0.9845\n",
      "Epoch 23/200\n",
      "8/8 [==============================] - 0s 16ms/step - loss: 0.2789 - acc: 0.9834 - val_loss: 0.3807 - val_acc: 0.9845\n",
      "Epoch 24/200\n",
      "8/8 [==============================] - 0s 18ms/step - loss: 0.2676 - acc: 0.9850 - val_loss: 0.3715 - val_acc: 0.9845\n",
      "Epoch 25/200\n",
      "8/8 [==============================] - 0s 26ms/step - loss: 0.2603 - acc: 0.9856 - val_loss: 0.3633 - val_acc: 0.9889\n",
      "Epoch 26/200\n",
      "8/8 [==============================] - 0s 18ms/step - loss: 0.2519 - acc: 0.9856 - val_loss: 0.3553 - val_acc: 0.9889\n",
      "Epoch 27/200\n",
      "8/8 [==============================] - 0s 18ms/step - loss: 0.2457 - acc: 0.9867 - val_loss: 0.3491 - val_acc: 0.9889\n",
      "Epoch 28/200\n",
      "8/8 [==============================] - 0s 16ms/step - loss: 0.2370 - acc: 0.9883 - val_loss: 0.3451 - val_acc: 0.9911\n",
      "Epoch 29/200\n",
      "8/8 [==============================] - 0s 18ms/step - loss: 0.2296 - acc: 0.9900 - val_loss: 0.3381 - val_acc: 0.9911\n",
      "Epoch 30/200\n",
      "8/8 [==============================] - 0s 20ms/step - loss: 0.2259 - acc: 0.9889 - val_loss: 0.3313 - val_acc: 0.9933\n",
      "Epoch 31/200\n",
      "8/8 [==============================] - 0s 21ms/step - loss: 0.2187 - acc: 0.9900 - val_loss: 0.3220 - val_acc: 0.9933\n",
      "Epoch 32/200\n",
      "8/8 [==============================] - 0s 21ms/step - loss: 0.2124 - acc: 0.9900 - val_loss: 0.3149 - val_acc: 0.9933\n",
      "Epoch 33/200\n",
      "8/8 [==============================] - 0s 20ms/step - loss: 0.2092 - acc: 0.9911 - val_loss: 0.3116 - val_acc: 0.9933\n",
      "Epoch 34/200\n",
      "8/8 [==============================] - 0s 19ms/step - loss: 0.2000 - acc: 0.9906 - val_loss: 0.3090 - val_acc: 0.9933\n",
      "Epoch 35/200\n",
      "8/8 [==============================] - 0s 18ms/step - loss: 0.1956 - acc: 0.9917 - val_loss: 0.3004 - val_acc: 0.9933\n",
      "Epoch 36/200\n",
      "8/8 [==============================] - 0s 18ms/step - loss: 0.1911 - acc: 0.9928 - val_loss: 0.2948 - val_acc: 0.9933\n",
      "Epoch 37/200\n",
      "8/8 [==============================] - 0s 17ms/step - loss: 0.1860 - acc: 0.9922 - val_loss: 0.2942 - val_acc: 0.9933\n",
      "Epoch 38/200\n",
      "8/8 [==============================] - 0s 17ms/step - loss: 0.1817 - acc: 0.9917 - val_loss: 0.3016 - val_acc: 0.9911\n",
      "Epoch 39/200\n",
      "8/8 [==============================] - 0s 16ms/step - loss: 0.1777 - acc: 0.9928 - val_loss: 0.2992 - val_acc: 0.9911\n",
      "Epoch 40/200\n",
      "8/8 [==============================] - 0s 16ms/step - loss: 0.1729 - acc: 0.9928 - val_loss: 0.2953 - val_acc: 0.9911\n",
      "Epoch 41/200\n",
      "8/8 [==============================] - 0s 16ms/step - loss: 0.1680 - acc: 0.9939 - val_loss: 0.2974 - val_acc: 0.9911\n",
      "Epoch 42/200\n",
      "8/8 [==============================] - 0s 17ms/step - loss: 0.1662 - acc: 0.9933 - val_loss: 0.3009 - val_acc: 0.9889\n",
      "Epoch 43/200\n",
      "8/8 [==============================] - 0s 19ms/step - loss: 0.1610 - acc: 0.9945 - val_loss: 0.2914 - val_acc: 0.9889\n",
      "Epoch 44/200\n",
      "8/8 [==============================] - 0s 26ms/step - loss: 0.1580 - acc: 0.9950 - val_loss: 0.2871 - val_acc: 0.9911\n",
      "Epoch 45/200\n",
      "8/8 [==============================] - 0s 19ms/step - loss: 0.1546 - acc: 0.9945 - val_loss: 0.2778 - val_acc: 0.9911\n",
      "Epoch 46/200\n",
      "8/8 [==============================] - 0s 20ms/step - loss: 0.1530 - acc: 0.9939 - val_loss: 0.2771 - val_acc: 0.9911\n",
      "Epoch 47/200\n",
      "8/8 [==============================] - 0s 21ms/step - loss: 0.1522 - acc: 0.9956 - val_loss: 0.2678 - val_acc: 0.9911\n",
      "Epoch 48/200\n",
      "8/8 [==============================] - 0s 19ms/step - loss: 0.1471 - acc: 0.9939 - val_loss: 0.2565 - val_acc: 0.9933\n",
      "Epoch 49/200\n",
      "8/8 [==============================] - 0s 18ms/step - loss: 0.1435 - acc: 0.9945 - val_loss: 0.2399 - val_acc: 0.9889\n",
      "Epoch 50/200\n",
      "8/8 [==============================] - 0s 21ms/step - loss: 0.1427 - acc: 0.9939 - val_loss: 0.2334 - val_acc: 0.9889\n",
      "Epoch 51/200\n",
      "8/8 [==============================] - 0s 20ms/step - loss: 0.1410 - acc: 0.9939 - val_loss: 0.2272 - val_acc: 0.9889\n",
      "Epoch 52/200\n",
      "8/8 [==============================] - 0s 18ms/step - loss: 0.1367 - acc: 0.9950 - val_loss: 0.2384 - val_acc: 0.9911\n",
      "Epoch 53/200\n",
      "8/8 [==============================] - 0s 20ms/step - loss: 0.1350 - acc: 0.9945 - val_loss: 0.2483 - val_acc: 0.9889\n",
      "Epoch 54/200\n",
      "8/8 [==============================] - 0s 20ms/step - loss: 0.1336 - acc: 0.9950 - val_loss: 0.2310 - val_acc: 0.9911\n",
      "Epoch 55/200\n",
      "8/8 [==============================] - 0s 20ms/step - loss: 0.1308 - acc: 0.9950 - val_loss: 0.2244 - val_acc: 0.9889\n",
      "Epoch 56/200\n",
      "8/8 [==============================] - 0s 20ms/step - loss: 0.1282 - acc: 0.9945 - val_loss: 0.2089 - val_acc: 0.9889\n",
      "Epoch 57/200\n",
      "8/8 [==============================] - 0s 20ms/step - loss: 0.1266 - acc: 0.9950 - val_loss: 0.2082 - val_acc: 0.9889\n",
      "Epoch 58/200\n",
      "8/8 [==============================] - 0s 19ms/step - loss: 0.1262 - acc: 0.9956 - val_loss: 0.2059 - val_acc: 0.9889\n",
      "Epoch 59/200\n",
      "8/8 [==============================] - 0s 20ms/step - loss: 0.1239 - acc: 0.9950 - val_loss: 0.2005 - val_acc: 0.9889\n",
      "Epoch 60/200\n",
      "8/8 [==============================] - 0s 21ms/step - loss: 0.1213 - acc: 0.9956 - val_loss: 0.1938 - val_acc: 0.9889\n",
      "Epoch 61/200\n",
      "8/8 [==============================] - 0s 21ms/step - loss: 0.1201 - acc: 0.9956 - val_loss: 0.1903 - val_acc: 0.9889\n",
      "Epoch 62/200\n",
      "8/8 [==============================] - 0s 20ms/step - loss: 0.1169 - acc: 0.9956 - val_loss: 0.1920 - val_acc: 0.9889\n",
      "Epoch 63/200\n"
     ]
    },
    {
     "name": "stdout",
     "output_type": "stream",
     "text": [
      "8/8 [==============================] - 0s 20ms/step - loss: 0.1157 - acc: 0.9956 - val_loss: 0.1901 - val_acc: 0.9889\n",
      "Epoch 64/200\n",
      "8/8 [==============================] - 0s 19ms/step - loss: 0.1140 - acc: 0.9956 - val_loss: 0.1822 - val_acc: 0.9889\n",
      "Epoch 65/200\n",
      "8/8 [==============================] - 0s 20ms/step - loss: 0.1121 - acc: 0.9961 - val_loss: 0.1824 - val_acc: 0.9889\n",
      "Epoch 66/200\n",
      "8/8 [==============================] - 0s 19ms/step - loss: 0.1109 - acc: 0.9956 - val_loss: 0.1986 - val_acc: 0.9889\n",
      "Epoch 67/200\n",
      "8/8 [==============================] - 0s 18ms/step - loss: 0.1100 - acc: 0.9956 - val_loss: 0.1813 - val_acc: 0.9889\n",
      "Epoch 68/200\n",
      "8/8 [==============================] - 0s 19ms/step - loss: 0.1113 - acc: 0.9945 - val_loss: 0.1733 - val_acc: 0.9889\n",
      "Epoch 69/200\n",
      "8/8 [==============================] - 0s 19ms/step - loss: 0.1074 - acc: 0.9950 - val_loss: 0.1773 - val_acc: 0.9889\n",
      "Epoch 70/200\n",
      "8/8 [==============================] - 0s 19ms/step - loss: 0.1058 - acc: 0.9950 - val_loss: 0.1794 - val_acc: 0.9889\n",
      "Epoch 71/200\n",
      "8/8 [==============================] - 0s 19ms/step - loss: 0.1056 - acc: 0.9945 - val_loss: 0.1742 - val_acc: 0.9889\n",
      "Epoch 72/200\n",
      "8/8 [==============================] - 0s 19ms/step - loss: 0.1035 - acc: 0.9950 - val_loss: 0.1692 - val_acc: 0.9889\n",
      "Epoch 73/200\n",
      "8/8 [==============================] - 0s 20ms/step - loss: 0.1037 - acc: 0.9945 - val_loss: 0.1599 - val_acc: 0.9889\n",
      "Epoch 74/200\n",
      "8/8 [==============================] - 0s 19ms/step - loss: 0.1034 - acc: 0.9950 - val_loss: 0.1601 - val_acc: 0.9911\n",
      "Epoch 75/200\n",
      "8/8 [==============================] - 0s 19ms/step - loss: 0.1034 - acc: 0.9945 - val_loss: 0.1555 - val_acc: 0.9889\n",
      "Epoch 76/200\n",
      "8/8 [==============================] - 0s 19ms/step - loss: 0.1038 - acc: 0.9956 - val_loss: 0.1485 - val_acc: 0.9889\n",
      "Epoch 77/200\n",
      "8/8 [==============================] - 0s 19ms/step - loss: 0.0991 - acc: 0.9950 - val_loss: 0.1447 - val_acc: 0.9911\n",
      "Epoch 78/200\n",
      "8/8 [==============================] - 0s 20ms/step - loss: 0.0990 - acc: 0.9950 - val_loss: 0.1431 - val_acc: 0.9911\n",
      "Epoch 79/200\n",
      "8/8 [==============================] - 0s 20ms/step - loss: 0.0970 - acc: 0.9956 - val_loss: 0.1447 - val_acc: 0.9911\n",
      "Epoch 80/200\n",
      "8/8 [==============================] - 0s 18ms/step - loss: 0.0953 - acc: 0.9961 - val_loss: 0.1429 - val_acc: 0.9911\n",
      "Epoch 81/200\n",
      "8/8 [==============================] - 0s 20ms/step - loss: 0.0948 - acc: 0.9956 - val_loss: 0.1390 - val_acc: 0.9911\n",
      "Epoch 82/200\n",
      "8/8 [==============================] - 0s 19ms/step - loss: 0.0957 - acc: 0.9961 - val_loss: 0.1337 - val_acc: 0.9911\n",
      "Epoch 83/200\n",
      "8/8 [==============================] - 0s 18ms/step - loss: 0.0929 - acc: 0.9950 - val_loss: 0.1318 - val_acc: 0.9889\n",
      "Epoch 84/200\n",
      "8/8 [==============================] - 0s 19ms/step - loss: 0.0929 - acc: 0.9950 - val_loss: 0.1302 - val_acc: 0.9889\n",
      "Epoch 85/200\n",
      "8/8 [==============================] - 0s 19ms/step - loss: 0.0914 - acc: 0.9956 - val_loss: 0.1284 - val_acc: 0.9911\n",
      "Epoch 86/200\n",
      "8/8 [==============================] - 0s 17ms/step - loss: 0.0900 - acc: 0.9961 - val_loss: 0.1285 - val_acc: 0.9911\n",
      "Epoch 87/200\n",
      "8/8 [==============================] - 0s 19ms/step - loss: 0.0889 - acc: 0.9956 - val_loss: 0.1281 - val_acc: 0.9911\n",
      "Epoch 88/200\n",
      "8/8 [==============================] - 0s 20ms/step - loss: 0.0903 - acc: 0.9961 - val_loss: 0.1256 - val_acc: 0.9911\n",
      "Epoch 89/200\n",
      "8/8 [==============================] - 0s 20ms/step - loss: 0.0877 - acc: 0.9961 - val_loss: 0.1241 - val_acc: 0.9911\n",
      "Epoch 90/200\n",
      "8/8 [==============================] - 0s 24ms/step - loss: 0.0880 - acc: 0.9950 - val_loss: 0.1241 - val_acc: 0.9911\n",
      "Epoch 91/200\n",
      "8/8 [==============================] - 0s 19ms/step - loss: 0.0866 - acc: 0.9956 - val_loss: 0.1271 - val_acc: 0.9911\n",
      "Epoch 92/200\n",
      "8/8 [==============================] - 0s 20ms/step - loss: 0.0857 - acc: 0.9956 - val_loss: 0.1254 - val_acc: 0.9911\n",
      "Epoch 93/200\n",
      "8/8 [==============================] - 0s 20ms/step - loss: 0.0852 - acc: 0.9967 - val_loss: 0.1237 - val_acc: 0.9911\n",
      "Epoch 94/200\n",
      "8/8 [==============================] - 0s 20ms/step - loss: 0.0864 - acc: 0.9950 - val_loss: 0.1216 - val_acc: 0.9933\n",
      "Epoch 95/200\n",
      "8/8 [==============================] - 0s 19ms/step - loss: 0.0846 - acc: 0.9956 - val_loss: 0.1177 - val_acc: 0.9933\n",
      "Epoch 96/200\n",
      "8/8 [==============================] - 0s 20ms/step - loss: 0.0830 - acc: 0.9956 - val_loss: 0.1163 - val_acc: 0.9933\n",
      "Epoch 97/200\n",
      "8/8 [==============================] - 0s 19ms/step - loss: 0.0816 - acc: 0.9961 - val_loss: 0.1132 - val_acc: 0.9911\n",
      "Epoch 98/200\n",
      "8/8 [==============================] - 0s 20ms/step - loss: 0.0805 - acc: 0.9967 - val_loss: 0.1115 - val_acc: 0.9933\n",
      "Epoch 99/200\n",
      "8/8 [==============================] - 0s 20ms/step - loss: 0.0805 - acc: 0.9961 - val_loss: 0.1099 - val_acc: 0.9933\n",
      "Epoch 100/200\n",
      "8/8 [==============================] - 0s 20ms/step - loss: 0.0806 - acc: 0.9967 - val_loss: 0.1091 - val_acc: 0.9933\n",
      "Epoch 101/200\n",
      "8/8 [==============================] - 0s 23ms/step - loss: 0.0796 - acc: 0.9961 - val_loss: 0.1089 - val_acc: 0.9911\n",
      "Epoch 102/200\n",
      "8/8 [==============================] - 0s 18ms/step - loss: 0.0788 - acc: 0.9961 - val_loss: 0.1090 - val_acc: 0.9911\n",
      "Epoch 103/200\n",
      "8/8 [==============================] - 0s 19ms/step - loss: 0.0788 - acc: 0.9961 - val_loss: 0.1103 - val_acc: 0.9933\n",
      "Epoch 104/200\n",
      "8/8 [==============================] - 0s 18ms/step - loss: 0.0773 - acc: 0.9956 - val_loss: 0.1086 - val_acc: 0.9933\n",
      "Epoch 105/200\n",
      "8/8 [==============================] - 0s 20ms/step - loss: 0.0763 - acc: 0.9961 - val_loss: 0.1083 - val_acc: 0.9933\n",
      "Epoch 106/200\n",
      "8/8 [==============================] - 0s 20ms/step - loss: 0.0761 - acc: 0.9961 - val_loss: 0.1187 - val_acc: 0.9911\n",
      "Epoch 107/200\n",
      "8/8 [==============================] - 0s 19ms/step - loss: 0.0775 - acc: 0.9950 - val_loss: 0.1161 - val_acc: 0.9911\n",
      "Epoch 108/200\n",
      "8/8 [==============================] - 0s 19ms/step - loss: 0.0782 - acc: 0.9950 - val_loss: 0.1294 - val_acc: 0.9889\n",
      "Epoch 109/200\n",
      "8/8 [==============================] - 0s 16ms/step - loss: 0.0789 - acc: 0.9933 - val_loss: 0.1304 - val_acc: 0.9845\n",
      "Epoch 110/200\n",
      "8/8 [==============================] - 0s 17ms/step - loss: 0.0776 - acc: 0.9945 - val_loss: 0.1199 - val_acc: 0.9867\n",
      "Epoch 111/200\n",
      "8/8 [==============================] - 0s 17ms/step - loss: 0.0761 - acc: 0.9939 - val_loss: 0.1101 - val_acc: 0.9911\n",
      "Epoch 112/200\n",
      "8/8 [==============================] - 0s 21ms/step - loss: 0.0745 - acc: 0.9939 - val_loss: 0.1038 - val_acc: 0.9911\n",
      "Epoch 113/200\n",
      "8/8 [==============================] - 0s 20ms/step - loss: 0.0750 - acc: 0.9950 - val_loss: 0.1015 - val_acc: 0.9911\n",
      "Epoch 114/200\n",
      "8/8 [==============================] - 0s 20ms/step - loss: 0.0742 - acc: 0.9950 - val_loss: 0.0999 - val_acc: 0.9933\n",
      "Epoch 115/200\n",
      "8/8 [==============================] - 0s 20ms/step - loss: 0.0729 - acc: 0.9961 - val_loss: 0.1045 - val_acc: 0.9911\n",
      "Epoch 116/200\n",
      "8/8 [==============================] - 0s 20ms/step - loss: 0.0739 - acc: 0.9961 - val_loss: 0.1044 - val_acc: 0.9911\n",
      "Epoch 117/200\n",
      "8/8 [==============================] - 0s 19ms/step - loss: 0.0717 - acc: 0.9967 - val_loss: 0.1033 - val_acc: 0.9911\n",
      "Epoch 118/200\n",
      "8/8 [==============================] - 0s 17ms/step - loss: 0.0701 - acc: 0.9961 - val_loss: 0.0975 - val_acc: 0.9933\n",
      "Epoch 119/200\n",
      "8/8 [==============================] - 0s 20ms/step - loss: 0.0705 - acc: 0.9950 - val_loss: 0.0952 - val_acc: 0.9911\n",
      "Epoch 120/200\n",
      "8/8 [==============================] - 0s 20ms/step - loss: 0.0713 - acc: 0.9945 - val_loss: 0.1014 - val_acc: 0.9889\n",
      "Epoch 121/200\n",
      "8/8 [==============================] - 0s 19ms/step - loss: 0.0726 - acc: 0.9922 - val_loss: 0.0975 - val_acc: 0.9889\n",
      "Epoch 122/200\n",
      "8/8 [==============================] - 0s 18ms/step - loss: 0.0708 - acc: 0.9939 - val_loss: 0.0929 - val_acc: 0.9911\n",
      "Epoch 123/200\n",
      "8/8 [==============================] - 0s 21ms/step - loss: 0.0688 - acc: 0.9945 - val_loss: 0.0919 - val_acc: 0.9911\n",
      "Epoch 124/200\n",
      "8/8 [==============================] - 0s 20ms/step - loss: 0.0672 - acc: 0.9956 - val_loss: 0.0898 - val_acc: 0.9911\n",
      "Epoch 125/200\n"
     ]
    },
    {
     "name": "stdout",
     "output_type": "stream",
     "text": [
      "8/8 [==============================] - 0s 20ms/step - loss: 0.0684 - acc: 0.9956 - val_loss: 0.0906 - val_acc: 0.9911\n",
      "Epoch 126/200\n",
      "8/8 [==============================] - 0s 20ms/step - loss: 0.0668 - acc: 0.9956 - val_loss: 0.0904 - val_acc: 0.9911\n",
      "Epoch 127/200\n",
      "8/8 [==============================] - 0s 20ms/step - loss: 0.0653 - acc: 0.9961 - val_loss: 0.0901 - val_acc: 0.9911\n",
      "Epoch 128/200\n",
      "8/8 [==============================] - 0s 19ms/step - loss: 0.0658 - acc: 0.9956 - val_loss: 0.0901 - val_acc: 0.9911\n",
      "Epoch 129/200\n",
      "8/8 [==============================] - 0s 19ms/step - loss: 0.0723 - acc: 0.9928 - val_loss: 0.0901 - val_acc: 0.9911\n",
      "Epoch 130/200\n",
      "8/8 [==============================] - 0s 19ms/step - loss: 0.0666 - acc: 0.9956 - val_loss: 0.0910 - val_acc: 0.9911\n",
      "Epoch 131/200\n",
      "8/8 [==============================] - 0s 20ms/step - loss: 0.0687 - acc: 0.9956 - val_loss: 0.0886 - val_acc: 0.9911\n",
      "Epoch 132/200\n",
      "8/8 [==============================] - 0s 19ms/step - loss: 0.0707 - acc: 0.9956 - val_loss: 0.0856 - val_acc: 0.9911\n",
      "Epoch 133/200\n",
      "8/8 [==============================] - 0s 19ms/step - loss: 0.0671 - acc: 0.9961 - val_loss: 0.0844 - val_acc: 0.9911\n",
      "Epoch 134/200\n",
      "8/8 [==============================] - 0s 20ms/step - loss: 0.0659 - acc: 0.9961 - val_loss: 0.0847 - val_acc: 0.9911\n",
      "Epoch 135/200\n",
      "8/8 [==============================] - 0s 18ms/step - loss: 0.0659 - acc: 0.9945 - val_loss: 0.0842 - val_acc: 0.9911\n",
      "Epoch 136/200\n",
      "8/8 [==============================] - 0s 18ms/step - loss: 0.0657 - acc: 0.9961 - val_loss: 0.0829 - val_acc: 0.9911\n",
      "Epoch 137/200\n",
      "8/8 [==============================] - 0s 20ms/step - loss: 0.0644 - acc: 0.9961 - val_loss: 0.0823 - val_acc: 0.9911\n",
      "Epoch 138/200\n",
      "8/8 [==============================] - 0s 18ms/step - loss: 0.0635 - acc: 0.9956 - val_loss: 0.0841 - val_acc: 0.9911\n",
      "Epoch 139/200\n",
      "8/8 [==============================] - 0s 20ms/step - loss: 0.0628 - acc: 0.9961 - val_loss: 0.0814 - val_acc: 0.9933\n",
      "Epoch 140/200\n",
      "8/8 [==============================] - 0s 19ms/step - loss: 0.0628 - acc: 0.9956 - val_loss: 0.0789 - val_acc: 0.9911\n",
      "Epoch 141/200\n",
      "8/8 [==============================] - 0s 18ms/step - loss: 0.0618 - acc: 0.9961 - val_loss: 0.0800 - val_acc: 0.9911\n",
      "Epoch 142/200\n",
      "8/8 [==============================] - 0s 16ms/step - loss: 0.0639 - acc: 0.9950 - val_loss: 0.0845 - val_acc: 0.9933\n",
      "Epoch 143/200\n",
      "8/8 [==============================] - 0s 17ms/step - loss: 0.0664 - acc: 0.9945 - val_loss: 0.0841 - val_acc: 0.9911\n",
      "Epoch 144/200\n",
      "8/8 [==============================] - 0s 16ms/step - loss: 0.0628 - acc: 0.9956 - val_loss: 0.0908 - val_acc: 0.9889\n",
      "Epoch 145/200\n",
      "8/8 [==============================] - 0s 16ms/step - loss: 0.0666 - acc: 0.9945 - val_loss: 0.0950 - val_acc: 0.9867\n",
      "Epoch 146/200\n",
      "8/8 [==============================] - 0s 17ms/step - loss: 0.0679 - acc: 0.9939 - val_loss: 0.0907 - val_acc: 0.9889\n",
      "Epoch 147/200\n",
      "8/8 [==============================] - 0s 17ms/step - loss: 0.0645 - acc: 0.9956 - val_loss: 0.0830 - val_acc: 0.9889\n",
      "Epoch 148/200\n",
      "8/8 [==============================] - 0s 16ms/step - loss: 0.0655 - acc: 0.9933 - val_loss: 0.0817 - val_acc: 0.9889\n",
      "Epoch 149/200\n",
      "8/8 [==============================] - 0s 16ms/step - loss: 0.0611 - acc: 0.9961 - val_loss: 0.0868 - val_acc: 0.9889\n",
      "Epoch 150/200\n",
      "8/8 [==============================] - 0s 16ms/step - loss: 0.0623 - acc: 0.9950 - val_loss: 0.0901 - val_acc: 0.9889\n",
      "\n",
      "Epoch 00150: ReduceLROnPlateau reducing learning rate to 0.0005000000237487257.\n",
      "Epoch 151/200\n",
      "8/8 [==============================] - 0s 17ms/step - loss: 0.0612 - acc: 0.9956 - val_loss: 0.0842 - val_acc: 0.9889\n",
      "Epoch 152/200\n",
      "8/8 [==============================] - 0s 16ms/step - loss: 0.0614 - acc: 0.9950 - val_loss: 0.0790 - val_acc: 0.9889\n",
      "Epoch 153/200\n",
      "8/8 [==============================] - 0s 17ms/step - loss: 0.0617 - acc: 0.9950 - val_loss: 0.0807 - val_acc: 0.9867\n",
      "Epoch 154/200\n",
      "8/8 [==============================] - 0s 17ms/step - loss: 0.0597 - acc: 0.9956 - val_loss: 0.0832 - val_acc: 0.9867\n",
      "Epoch 155/200\n",
      "8/8 [==============================] - 0s 22ms/step - loss: 0.0621 - acc: 0.9950 - val_loss: 0.0836 - val_acc: 0.9867\n"
     ]
    },
    {
     "data": {
      "text/plain": [
       "<tensorflow.python.keras.callbacks.History at 0x1adb6bfdc10>"
      ]
     },
     "execution_count": 100,
     "metadata": {},
     "output_type": "execute_result"
    }
   ],
   "source": [
    "model.fit(x_train, y_train, epochs=200, validation_data=(x_valid, y_valid), shuffle=True, batch_size=256, callbacks=[early_stopping,reduceLR_cb], class_weight=class_weights)"
   ]
  },
  {
   "cell_type": "code",
   "execution_count": 101,
   "id": "6acd9472",
   "metadata": {
    "scrolled": true
   },
   "outputs": [
    {
     "name": "stdout",
     "output_type": "stream",
     "text": [
      "18/18 [==============================] - 0s 7ms/step - loss: 0.0833 - acc: 0.9912\n"
     ]
    },
    {
     "data": {
      "text/plain": [
       "[0.08326158672571182, 0.991150438785553]"
      ]
     },
     "execution_count": 101,
     "metadata": {},
     "output_type": "execute_result"
    }
   ],
   "source": [
    "model.evaluate(x_test, y_test)"
   ]
  },
  {
   "cell_type": "code",
   "execution_count": 102,
   "id": "32775f7e",
   "metadata": {},
   "outputs": [],
   "source": [
    "preds = model.predict(x_test)"
   ]
  },
  {
   "cell_type": "code",
   "execution_count": 103,
   "id": "8c95d403",
   "metadata": {},
   "outputs": [
    {
     "data": {
      "text/plain": [
       "array([[294,   3],\n",
       "       [  2, 266]], dtype=int64)"
      ]
     },
     "execution_count": 103,
     "metadata": {},
     "output_type": "execute_result"
    }
   ],
   "source": [
    "conf = confusion_matrix(np.argmax(y_test,-1), np.argmax(preds,-1))\n",
    "conf"
   ]
  },
  {
   "cell_type": "code",
   "execution_count": 72,
   "id": "1dfeb970",
   "metadata": {},
   "outputs": [],
   "source": [
    "import matplotlib.pyplot as plt\n",
    "def plot_confusion_matrix(cm, title='CONFUSION MATRIX', cmap=plt.cm.Reds):\n",
    "    target_names=['Legit','Fake']\n",
    "    plt.imshow(cm, interpolation='nearest', cmap=cmap)\n",
    "    plt.title(title)\n",
    "    plt.colorbar()\n",
    "    tick_marks = np.arange(len(target_names))\n",
    "    plt.xticks(tick_marks, target_names, rotation=45)\n",
    "    plt.yticks(tick_marks, target_names)\n",
    "    plt.tight_layout()\n",
    "    plt.ylabel('True label')\n",
    "    plt.xlabel('Predicted label')"
   ]
  },
  {
   "cell_type": "code",
   "execution_count": 81,
   "id": "75c630cd",
   "metadata": {},
   "outputs": [
    {
     "data": {
      "image/png": "[encoded data removed]",
      "text/plain": [
       "<Figure size 432x288 with 2 Axes>"
      ]
     },
     "metadata": {
      "needs_background": "light"
     },
     "output_type": "display_data"
    }
   ],
   "source": [
    "plot_confusion_matrix(conf)"
   ]
  },
  {
   "cell_type": "code",
   "execution_count": 105,
   "id": "3c88dbe7",
   "metadata": {},
   "outputs": [],
   "source": [
    "model.save(\"./model/classifier_1.h5\")"
   ]
  }
 ],
 "metadata": {
  "kernelspec": {
   "display_name": "Python 3",
   "language": "python",
   "name": "python3"
  },
  "language_info": {
   "codemirror_mode": {
    "name": "ipython",
    "version": 3
   },
   "file_extension": ".py",
   "mimetype": "text/x-python",
   "name": "python",
   "nbconvert_exporter": "python",
   "pygments_lexer": "ipython3",
   "version": "3.8.10"
  }
 },
 "nbformat": 4,
 "nbformat_minor": 5
}
