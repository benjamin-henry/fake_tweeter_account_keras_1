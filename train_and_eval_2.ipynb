{
 "cells": [
  {
   "cell_type": "code",
   "execution_count": 1,
   "id": "16f9ddb5",
   "metadata": {},
   "outputs": [],
   "source": [
    "import pandas as pd\n",
    "import numpy as np\n",
    "from sklearn.metrics import confusion_matrix\n",
    "from sklearn.model_selection import train_test_split\n",
    "from math import isnan"
   ]
  },
  {
   "cell_type": "code",
   "execution_count": 2,
   "id": "bb407de1",
   "metadata": {},
   "outputs": [],
   "source": [
    "data = dict()\n",
    "data[\"fake\"]  = pd.read_csv(\"DATASET/fusers.csv\")\n",
    "data[\"legit\"] = pd.read_csv(\"DATASET/users.csv\")"
   ]
  },
  {
   "cell_type": "code",
   "execution_count": 3,
   "id": "4bd7d57e",
   "metadata": {},
   "outputs": [],
   "source": [
    "data[\"legit\"] = data[\"legit\"].drop([\"id\", \"name\", \"screen_name\", \"statuses_count\", \"created_at\", \"lang\", \"location\", \"geo_enabled\", \"default_profile_image\", \"profile_image_url\", \"profile_banner_url\", \"profile_use_background_image\", \"profile_background_image_url_https\", \"profile_text_color\", \"profile_image_url_https\", \"profile_sidebar_border_color\", \"profile_background_tile\", \"profile_sidebar_fill_color\", \"profile_background_image_url\", \"profile_background_color\", \"profile_link_color\", \"utc_offset\", \"protected\", \"verified\", \"dataset\", \"updated\"], axis=1)\n",
    "data[\"fake\"]  = data[\"fake\"].drop([\"id\", \"name\", \"screen_name\", \"statuses_count\", \"created_at\", \"lang\", \"location\", \"geo_enabled\", \"default_profile_image\", \"profile_image_url\", \"profile_banner_url\", \"profile_use_background_image\", \"profile_background_image_url_https\", \"profile_text_color\", \"profile_image_url_https\", \"profile_sidebar_border_color\", \"profile_background_tile\", \"profile_sidebar_fill_color\", \"profile_background_image_url\", \"profile_background_color\", \"profile_link_color\", \"utc_offset\", \"protected\", \"verified\", \"dataset\", \"updated\"], axis=1)"
   ]
  },
  {
   "cell_type": "code",
   "execution_count": 4,
   "id": "a7ab592f",
   "metadata": {},
   "outputs": [],
   "source": [
    "def is_default_profile(arr):\n",
    "    ret = []\n",
    "    for l in arr:\n",
    "        if l == 1.:\n",
    "            ret.append(1.)\n",
    "        else:\n",
    "            ret.append(-1.)\n",
    "    return ret\n",
    "\n",
    "def has_description(arr):\n",
    "    ret = []\n",
    "    for l in arr:\n",
    "        if type(l) == str:\n",
    "            ret.append(1.)\n",
    "        else:\n",
    "            ret.append(-1.)\n",
    "    return ret\n",
    "\n",
    "def has_url(arr):\n",
    "    ret = []\n",
    "    for l in arr:\n",
    "        if type(l) == str and len(l) > 0:\n",
    "            ret.append(1.)\n",
    "        else:\n",
    "            ret.append(-1.)\n",
    "    return ret\n",
    "\n",
    "def has_timezone(arr):\n",
    "    ret = []\n",
    "    for l in arr:\n",
    "        if type(l) == str and len(l) > 0:\n",
    "            ret.append(1.)\n",
    "        else:\n",
    "            ret.append(-1.)\n",
    "    return ret\n",
    "\n",
    "def is_listed(arr):\n",
    "    ret = []\n",
    "    for l in arr:\n",
    "        if l > 0.:\n",
    "            ret.append(1.)\n",
    "        else:\n",
    "            ret.append(-1.)\n",
    "    return ret\n",
    "\n",
    "def has_favourites(arr):\n",
    "    ret = []\n",
    "    for l in arr:\n",
    "        if l > 0.:\n",
    "            ret.append(1.)\n",
    "        else:\n",
    "            ret.append(-1.)\n",
    "    return ret\n",
    "\n",
    "def friends_followers_ratio(friends, followers):\n",
    "    ret = []\n",
    "    for fr, fo in zip(friends, followers):\n",
    "        if isnan(fo) or fo == 0.:\n",
    "            ret.append(-1.)\n",
    "        else:\n",
    "            ret.append(fr/fo)\n",
    "    return ret"
   ]
  },
  {
   "cell_type": "code",
   "execution_count": 5,
   "id": "d656451b",
   "metadata": {},
   "outputs": [],
   "source": [
    "data[\"legit\"][\"fr_fo\"] = friends_followers_ratio(data[\"legit\"][\"friends_count\"], data[\"legit\"][\"followers_count\"])\n",
    "data[\"legit\"][\"has_fav\"] = has_favourites(data[\"legit\"][\"favourites_count\"])\n",
    "data[\"legit\"][\"is_listed\"] = is_listed(data[\"legit\"][\"listed_count\"])\n",
    "data[\"legit\"][\"url\"] = has_url(data[\"legit\"][\"url\"])\n",
    "data[\"legit\"][\"time_zone\"] = has_timezone(data[\"legit\"][\"time_zone\"])\n",
    "data[\"legit\"][\"default_profile\"] = is_default_profile(data[\"legit\"][\"default_profile\"])\n",
    "data[\"legit\"][\"description\"] = has_description(data[\"legit\"][\"description\"])\n",
    "\n",
    "data[\"fake\"][\"fr_fo\"] = friends_followers_ratio(data[\"fake\"][\"friends_count\"], data[\"fake\"][\"followers_count\"])\n",
    "data[\"fake\"][\"has_fav\"] = has_favourites(data[\"fake\"][\"favourites_count\"])\n",
    "data[\"fake\"][\"is_listed\"] = is_listed(data[\"fake\"][\"listed_count\"])\n",
    "data[\"fake\"][\"url\"] = has_url(data[\"fake\"][\"url\"])\n",
    "data[\"fake\"][\"time_zone\"] = has_timezone(data[\"fake\"][\"time_zone\"])\n",
    "data[\"fake\"][\"default_profile\"] = is_default_profile(data[\"fake\"][\"default_profile\"])\n",
    "data[\"fake\"][\"description\"] = has_description(data[\"fake\"][\"description\"])\n"
   ]
  },
  {
   "cell_type": "code",
   "execution_count": 6,
   "id": "9df0f6cf",
   "metadata": {},
   "outputs": [],
   "source": [
    "data[\"legit\"].drop([\"followers_count\", \"friends_count\", \"favourites_count\", \"listed_count\"],axis=1, inplace=True)\n",
    "data[\"fake\"].drop([\"followers_count\", \"friends_count\", \"favourites_count\", \"listed_count\"],axis=1, inplace=True)"
   ]
  },
  {
   "cell_type": "code",
   "execution_count": 7,
   "id": "1b997903",
   "metadata": {},
   "outputs": [
    {
     "name": "stdout",
     "output_type": "stream",
     "text": [
      "Final Available Columns  7\n"
     ]
    },
    {
     "data": {
      "text/plain": [
       "Index(['url', 'time_zone', 'default_profile', 'description', 'fr_fo',\n",
       "       'has_fav', 'is_listed'],\n",
       "      dtype='object')"
      ]
     },
     "execution_count": 7,
     "metadata": {},
     "output_type": "execute_result"
    }
   ],
   "source": [
    "print(\"Final Available Columns \", len(data[\"legit\"].columns))\n",
    "data[\"legit\"].columns"
   ]
  },
  {
   "cell_type": "code",
   "execution_count": 8,
   "id": "c1ba2050",
   "metadata": {},
   "outputs": [
    {
     "name": "stdout",
     "output_type": "stream",
     "text": [
      "number of legit accounts : 1481\n",
      "number of fake accounts  : 1337\n"
     ]
    }
   ],
   "source": [
    "print(f\"number of legit accounts : {len(data['legit'])}\")\n",
    "print(f\"number of fake accounts  : {len(data['fake'])}\")"
   ]
  },
  {
   "cell_type": "code",
   "execution_count": 9,
   "id": "2e78b1d8",
   "metadata": {},
   "outputs": [],
   "source": [
    "data[\"legit\"] = data[\"legit\"].values\n",
    "data[\"fake\"] = data[\"fake\"].values"
   ]
  },
  {
   "cell_type": "code",
   "execution_count": 10,
   "id": "054cdea9",
   "metadata": {},
   "outputs": [],
   "source": [
    "data[\"legit\"] = data[\"legit\"].astype(np.float64)\n",
    "data[\"fake\"] = data[\"fake\"].astype(np.float64)"
   ]
  },
  {
   "cell_type": "code",
   "execution_count": 11,
   "id": "387b9e12",
   "metadata": {},
   "outputs": [],
   "source": [
    "import math\n",
    "\n",
    "def get_class_weights(labels):\n",
    "    n_classes = len(labels[0])\n",
    "    class_counts = [0 for _ in range(int(n_classes))]\n",
    "    for label in labels:\n",
    "        class_counts[label.index(1)] += 1\n",
    "    return {i : (1. / class_counts[i]) * float(len(labels)) / float(n_classes) for i in range(int(n_classes))}"
   ]
  },
  {
   "cell_type": "code",
   "execution_count": 12,
   "id": "77f57b6d",
   "metadata": {},
   "outputs": [],
   "source": [
    "X = []\n",
    "Y = []\n",
    "# legit -> [1.,0.]\n",
    "# fake -> [0.,1.]\n",
    "\n",
    "for row in data[\"legit\"]:\n",
    "    X.append(row)\n",
    "    Y.append([1.,0.])\n",
    "    \n",
    "for row in data[\"fake\"]:\n",
    "    X.append(row)\n",
    "    Y.append([0.,1.])\n",
    "\n",
    "X = np.array(X)\n",
    "Y = np.array(Y)"
   ]
  },
  {
   "cell_type": "code",
   "execution_count": 13,
   "id": "9348d2aa",
   "metadata": {},
   "outputs": [
    {
     "data": {
      "text/plain": [
       "{0: 0.9532502226179875, 1: 1.0515717092337917}"
      ]
     },
     "execution_count": 13,
     "metadata": {},
     "output_type": "execute_result"
    }
   ],
   "source": [
    "X_train, X_test, y_train, y_test = train_test_split( X, Y, \n",
    "    test_size=0.24, random_state=42)\n",
    "\n",
    "class_weights = get_class_weights(y_train.tolist())\n",
    "class_weights"
   ]
  },
  {
   "cell_type": "code",
   "execution_count": 14,
   "id": "0e80535a",
   "metadata": {},
   "outputs": [],
   "source": [
    "import tensorflow as tf"
   ]
  },
  {
   "cell_type": "code",
   "execution_count": 15,
   "id": "54a5bfc2",
   "metadata": {},
   "outputs": [
    {
     "name": "stdout",
     "output_type": "stream",
     "text": [
      "Model: \"model\"\n",
      "_________________________________________________________________\n",
      "Layer (type)                 Output Shape              Param #   \n",
      "=================================================================\n",
      "input_1 (InputLayer)         [(None, 7)]               0         \n",
      "_________________________________________________________________\n",
      "dense (Dense)                (None, 16)                128       \n",
      "_________________________________________________________________\n",
      "batch_normalization (BatchNo (None, 16)                64        \n",
      "_________________________________________________________________\n",
      "dense_1 (Dense)              (None, 8)                 136       \n",
      "_________________________________________________________________\n",
      "batch_normalization_1 (Batch (None, 8)                 32        \n",
      "_________________________________________________________________\n",
      "dense_2 (Dense)              (None, 2)                 18        \n",
      "=================================================================\n",
      "Total params: 378\n",
      "Trainable params: 330\n",
      "Non-trainable params: 48\n",
      "_________________________________________________________________\n"
     ]
    }
   ],
   "source": [
    "x = tf.keras.Input((7))\n",
    "y = tf.keras.layers.Dense(16, activation=\"relu\", kernel_regularizer=\"l2\")(x)\n",
    "y = tf.keras.layers.BatchNormalization()(y)\n",
    "y = tf.keras.layers.Dense(8, activation=\"relu\", kernel_regularizer=\"l2\")(y)\n",
    "y = tf.keras.layers.BatchNormalization()(y)\n",
    "y = tf.keras.layers.Dense(2, activation=\"softmax\", kernel_regularizer=\"l2\")(y)\n",
    "model = tf.keras.models.Model(x, y)\n",
    "\n",
    "model.compile(\n",
    "    optimizer=\"adam\",\n",
    "    loss=\"categorical_crossentropy\",\n",
    "    metrics=[\"acc\"]\n",
    ")\n",
    "model.summary()"
   ]
  },
  {
   "cell_type": "code",
   "execution_count": 16,
   "id": "78d1a057",
   "metadata": {},
   "outputs": [],
   "source": [
    "early_stopping = tf.keras.callbacks.EarlyStopping(monitor='val_loss', patience=15, restore_best_weights=True)\n",
    "reduceLR_cb = tf.keras.callbacks.ReduceLROnPlateau(\n",
    "          monitor='val_loss', factor=0.5, patience=10,\n",
    "          min_delta=0.0001, verbose=1)"
   ]
  },
  {
   "cell_type": "code",
   "execution_count": 17,
   "id": "cd598cf6",
   "metadata": {
    "scrolled": true
   },
   "outputs": [
    {
     "name": "stdout",
     "output_type": "stream",
     "text": [
      "WARNING:tensorflow:From c:\\users\\benji\\documents\\python\\ml_env\\lib\\site-packages\\tensorflow\\python\\ops\\array_ops.py:5043: calling gather (from tensorflow.python.ops.array_ops) with validate_indices is deprecated and will be removed in a future version.\n",
      "Instructions for updating:\n",
      "The `validate_indices` argument has no effect. Indices are always validated on CPU and never validated on GPU.\n",
      "Epoch 1/200\n",
      "17/17 [==============================] - 8s 139ms/step - loss: 0.5747 - acc: 0.9014 - val_loss: 0.6280 - val_acc: 0.8287\n",
      "Epoch 2/200\n",
      "17/17 [==============================] - 0s 19ms/step - loss: 0.4647 - acc: 0.9313 - val_loss: 0.5532 - val_acc: 0.9069\n",
      "Epoch 3/200\n",
      "17/17 [==============================] - 0s 14ms/step - loss: 0.3900 - acc: 0.9491 - val_loss: 0.4954 - val_acc: 0.9439\n",
      "Epoch 4/200\n",
      "17/17 [==============================] - 0s 24ms/step - loss: 0.3309 - acc: 0.9696 - val_loss: 0.4314 - val_acc: 0.9631\n",
      "Epoch 5/200\n",
      "17/17 [==============================] - 0s 16ms/step - loss: 0.2892 - acc: 0.9846 - val_loss: 0.3795 - val_acc: 0.9690\n",
      "Epoch 6/200\n",
      "17/17 [==============================] - 0s 19ms/step - loss: 0.2642 - acc: 0.9846 - val_loss: 0.3446 - val_acc: 0.9764\n",
      "Epoch 7/200\n",
      "17/17 [==============================] - 0s 21ms/step - loss: 0.2427 - acc: 0.9883 - val_loss: 0.3201 - val_acc: 0.9734\n",
      "Epoch 8/200\n",
      "17/17 [==============================] - 0s 15ms/step - loss: 0.2281 - acc: 0.9888 - val_loss: 0.3034 - val_acc: 0.9719\n",
      "Epoch 9/200\n",
      "17/17 [==============================] - 0s 26ms/step - loss: 0.2176 - acc: 0.9893 - val_loss: 0.2890 - val_acc: 0.9734\n",
      "Epoch 10/200\n",
      "17/17 [==============================] - 0s 17ms/step - loss: 0.2067 - acc: 0.9921 - val_loss: 0.2797 - val_acc: 0.9690\n",
      "Epoch 11/200\n",
      "17/17 [==============================] - 0s 19ms/step - loss: 0.1953 - acc: 0.9921 - val_loss: 0.2677 - val_acc: 0.9675\n",
      "Epoch 12/200\n",
      "17/17 [==============================] - 0s 17ms/step - loss: 0.1895 - acc: 0.9930 - val_loss: 0.2634 - val_acc: 0.9675\n",
      "Epoch 13/200\n",
      "17/17 [==============================] - 0s 18ms/step - loss: 0.1795 - acc: 0.9925 - val_loss: 0.2511 - val_acc: 0.9660\n",
      "Epoch 14/200\n",
      "17/17 [==============================] - 0s 18ms/step - loss: 0.1730 - acc: 0.9935 - val_loss: 0.2536 - val_acc: 0.9616\n",
      "Epoch 15/200\n",
      "17/17 [==============================] - 0s 18ms/step - loss: 0.1653 - acc: 0.9935 - val_loss: 0.2507 - val_acc: 0.9616\n",
      "Epoch 16/200\n",
      "17/17 [==============================] - 0s 15ms/step - loss: 0.1604 - acc: 0.9921 - val_loss: 0.2498 - val_acc: 0.9601\n",
      "Epoch 17/200\n",
      "17/17 [==============================] - 0s 14ms/step - loss: 0.1552 - acc: 0.9921 - val_loss: 0.2398 - val_acc: 0.9601\n",
      "Epoch 18/200\n",
      "17/17 [==============================] - 0s 15ms/step - loss: 0.1476 - acc: 0.9944 - val_loss: 0.2292 - val_acc: 0.9616\n",
      "Epoch 19/200\n",
      "17/17 [==============================] - 0s 18ms/step - loss: 0.1441 - acc: 0.9930 - val_loss: 0.2306 - val_acc: 0.9616\n",
      "Epoch 20/200\n",
      "17/17 [==============================] - 0s 17ms/step - loss: 0.1383 - acc: 0.9939 - val_loss: 0.2288 - val_acc: 0.9808\n",
      "Epoch 21/200\n",
      "17/17 [==============================] - 0s 18ms/step - loss: 0.1320 - acc: 0.9944 - val_loss: 0.2234 - val_acc: 0.9838\n",
      "Epoch 22/200\n",
      "17/17 [==============================] - 0s 18ms/step - loss: 0.1288 - acc: 0.9944 - val_loss: 0.2009 - val_acc: 0.9882\n",
      "Epoch 23/200\n",
      "17/17 [==============================] - 0s 17ms/step - loss: 0.1231 - acc: 0.9925 - val_loss: 0.2279 - val_acc: 0.9808\n",
      "Epoch 24/200\n",
      "17/17 [==============================] - 0s 18ms/step - loss: 0.1198 - acc: 0.9944 - val_loss: 0.2287 - val_acc: 0.9778\n",
      "Epoch 25/200\n",
      "17/17 [==============================] - 0s 18ms/step - loss: 0.1150 - acc: 0.9935 - val_loss: 0.2229 - val_acc: 0.9823\n",
      "Epoch 26/200\n",
      "17/17 [==============================] - 0s 18ms/step - loss: 0.1118 - acc: 0.9935 - val_loss: 0.2127 - val_acc: 0.9808\n",
      "Epoch 27/200\n",
      "17/17 [==============================] - 0s 18ms/step - loss: 0.1087 - acc: 0.9944 - val_loss: 0.2174 - val_acc: 0.9838\n",
      "Epoch 28/200\n",
      "17/17 [==============================] - 0s 18ms/step - loss: 0.1061 - acc: 0.9944 - val_loss: 0.2043 - val_acc: 0.9808\n",
      "Epoch 29/200\n",
      "17/17 [==============================] - 0s 18ms/step - loss: 0.1001 - acc: 0.9949 - val_loss: 0.1786 - val_acc: 0.9852\n",
      "Epoch 30/200\n",
      "17/17 [==============================] - 0s 15ms/step - loss: 0.0982 - acc: 0.9949 - val_loss: 0.1739 - val_acc: 0.9867\n",
      "Epoch 31/200\n",
      "17/17 [==============================] - 0s 16ms/step - loss: 0.0953 - acc: 0.9939 - val_loss: 0.2049 - val_acc: 0.9793\n",
      "Epoch 32/200\n",
      "17/17 [==============================] - 0s 17ms/step - loss: 0.0942 - acc: 0.9949 - val_loss: 0.1313 - val_acc: 0.9956\n",
      "Epoch 33/200\n",
      "17/17 [==============================] - 0s 16ms/step - loss: 0.0903 - acc: 0.9953 - val_loss: 0.1580 - val_acc: 0.9882\n",
      "Epoch 34/200\n",
      "17/17 [==============================] - 0s 15ms/step - loss: 0.0900 - acc: 0.9935 - val_loss: 0.1323 - val_acc: 0.9941\n",
      "Epoch 35/200\n",
      "17/17 [==============================] - 0s 14ms/step - loss: 0.0890 - acc: 0.9935 - val_loss: 0.1559 - val_acc: 0.9838\n",
      "Epoch 36/200\n",
      "17/17 [==============================] - 0s 16ms/step - loss: 0.0852 - acc: 0.9939 - val_loss: 0.1148 - val_acc: 0.9956\n",
      "Epoch 37/200\n",
      "17/17 [==============================] - 0s 19ms/step - loss: 0.0802 - acc: 0.9958 - val_loss: 0.1028 - val_acc: 0.9956\n",
      "Epoch 38/200\n",
      "17/17 [==============================] - 0s 16ms/step - loss: 0.0793 - acc: 0.9953 - val_loss: 0.1231 - val_acc: 0.9956\n",
      "Epoch 39/200\n",
      "17/17 [==============================] - 0s 17ms/step - loss: 0.0777 - acc: 0.9939 - val_loss: 0.1194 - val_acc: 0.9911\n",
      "Epoch 40/200\n",
      "17/17 [==============================] - 0s 14ms/step - loss: 0.0746 - acc: 0.9953 - val_loss: 0.1129 - val_acc: 0.9926\n",
      "Epoch 41/200\n",
      "17/17 [==============================] - 0s 16ms/step - loss: 0.0741 - acc: 0.9958 - val_loss: 0.0886 - val_acc: 0.9956\n",
      "Epoch 42/200\n",
      "17/17 [==============================] - 0s 13ms/step - loss: 0.0717 - acc: 0.9949 - val_loss: 0.1214 - val_acc: 0.9926\n",
      "Epoch 43/200\n",
      "17/17 [==============================] - 0s 14ms/step - loss: 0.0700 - acc: 0.9953 - val_loss: 0.1178 - val_acc: 0.9926\n",
      "Epoch 44/200\n",
      "17/17 [==============================] - 0s 16ms/step - loss: 0.0684 - acc: 0.9953 - val_loss: 0.1113 - val_acc: 0.9956\n",
      "Epoch 45/200\n",
      "17/17 [==============================] - 0s 14ms/step - loss: 0.0671 - acc: 0.9958 - val_loss: 0.1081 - val_acc: 0.9911\n",
      "Epoch 46/200\n",
      "17/17 [==============================] - 0s 13ms/step - loss: 0.0662 - acc: 0.9949 - val_loss: 0.0877 - val_acc: 0.9956\n",
      "Epoch 47/200\n",
      "17/17 [==============================] - 0s 16ms/step - loss: 0.0647 - acc: 0.9958 - val_loss: 0.1104 - val_acc: 0.9956\n",
      "Epoch 48/200\n",
      "17/17 [==============================] - ETA: 0s - loss: 0.0633 - acc: 0.994 - 0s 15ms/step - loss: 0.0633 - acc: 0.9944 - val_loss: 0.0850 - val_acc: 0.9926\n",
      "Epoch 49/200\n",
      "17/17 [==============================] - 0s 14ms/step - loss: 0.0626 - acc: 0.9949 - val_loss: 0.0679 - val_acc: 0.9956\n",
      "Epoch 50/200\n",
      "17/17 [==============================] - 0s 16ms/step - loss: 0.0632 - acc: 0.9949 - val_loss: 0.0670 - val_acc: 0.9941\n",
      "Epoch 51/200\n",
      "17/17 [==============================] - 0s 17ms/step - loss: 0.0629 - acc: 0.9949 - val_loss: 0.0753 - val_acc: 0.9970\n",
      "Epoch 52/200\n",
      "17/17 [==============================] - 0s 14ms/step - loss: 0.0619 - acc: 0.9949 - val_loss: 0.0710 - val_acc: 0.9956\n",
      "Epoch 53/200\n",
      "17/17 [==============================] - 0s 15ms/step - loss: 0.0600 - acc: 0.9953 - val_loss: 0.0607 - val_acc: 0.9970\n",
      "Epoch 54/200\n",
      "17/17 [==============================] - 0s 16ms/step - loss: 0.0561 - acc: 0.9958 - val_loss: 0.0648 - val_acc: 0.9970\n",
      "Epoch 55/200\n",
      "17/17 [==============================] - 0s 13ms/step - loss: 0.0582 - acc: 0.9944 - val_loss: 0.0627 - val_acc: 0.9970\n",
      "Epoch 56/200\n",
      "17/17 [==============================] - 0s 14ms/step - loss: 0.0572 - acc: 0.9953 - val_loss: 0.0795 - val_acc: 0.9956\n",
      "Epoch 57/200\n",
      "17/17 [==============================] - 0s 15ms/step - loss: 0.0562 - acc: 0.9958 - val_loss: 0.0761 - val_acc: 0.9911\n",
      "Epoch 58/200\n",
      "17/17 [==============================] - 0s 15ms/step - loss: 0.0549 - acc: 0.9953 - val_loss: 0.0588 - val_acc: 0.9970\n",
      "Epoch 59/200\n"
     ]
    },
    {
     "name": "stdout",
     "output_type": "stream",
     "text": [
      "17/17 [==============================] - 0s 14ms/step - loss: 0.0543 - acc: 0.9953 - val_loss: 0.0552 - val_acc: 0.9970\n",
      "Epoch 60/200\n",
      "17/17 [==============================] - 0s 15ms/step - loss: 0.0522 - acc: 0.9953 - val_loss: 0.0542 - val_acc: 0.9956\n",
      "Epoch 61/200\n",
      "17/17 [==============================] - 0s 15ms/step - loss: 0.0518 - acc: 0.9958 - val_loss: 0.0586 - val_acc: 0.9956\n",
      "Epoch 62/200\n",
      "17/17 [==============================] - 0s 14ms/step - loss: 0.0523 - acc: 0.9944 - val_loss: 0.0532 - val_acc: 0.9970\n",
      "Epoch 63/200\n",
      "17/17 [==============================] - 0s 17ms/step - loss: 0.0521 - acc: 0.9944 - val_loss: 0.0577 - val_acc: 0.9926\n",
      "Epoch 64/200\n",
      "17/17 [==============================] - 0s 16ms/step - loss: 0.0519 - acc: 0.9949 - val_loss: 0.0543 - val_acc: 0.9970\n",
      "Epoch 65/200\n",
      "17/17 [==============================] - 0s 16ms/step - loss: 0.0503 - acc: 0.9953 - val_loss: 0.0511 - val_acc: 0.9941\n",
      "Epoch 66/200\n",
      "17/17 [==============================] - 0s 17ms/step - loss: 0.0477 - acc: 0.9958 - val_loss: 0.0485 - val_acc: 0.9970\n",
      "Epoch 67/200\n",
      "17/17 [==============================] - 0s 17ms/step - loss: 0.0475 - acc: 0.9958 - val_loss: 0.0476 - val_acc: 0.9970\n",
      "Epoch 68/200\n",
      "17/17 [==============================] - 0s 15ms/step - loss: 0.0489 - acc: 0.9958 - val_loss: 0.0520 - val_acc: 0.9956\n",
      "Epoch 69/200\n",
      "17/17 [==============================] - 0s 15ms/step - loss: 0.0476 - acc: 0.9949 - val_loss: 0.0497 - val_acc: 0.9956\n",
      "Epoch 70/200\n",
      "17/17 [==============================] - 0s 16ms/step - loss: 0.0462 - acc: 0.9958 - val_loss: 0.0444 - val_acc: 0.9956\n",
      "Epoch 71/200\n",
      "17/17 [==============================] - 0s 14ms/step - loss: 0.0492 - acc: 0.9949 - val_loss: 0.0535 - val_acc: 0.9926\n",
      "Epoch 72/200\n",
      "17/17 [==============================] - 0s 14ms/step - loss: 0.0460 - acc: 0.9949 - val_loss: 0.0433 - val_acc: 0.9970\n",
      "Epoch 73/200\n",
      "17/17 [==============================] - 0s 14ms/step - loss: 0.0479 - acc: 0.9939 - val_loss: 0.0489 - val_acc: 0.9956\n",
      "Epoch 74/200\n",
      "17/17 [==============================] - 0s 14ms/step - loss: 0.0469 - acc: 0.9944 - val_loss: 0.0448 - val_acc: 0.9956\n",
      "Epoch 75/200\n",
      "17/17 [==============================] - 0s 15ms/step - loss: 0.0457 - acc: 0.9958 - val_loss: 0.0446 - val_acc: 0.9956\n",
      "Epoch 76/200\n",
      "17/17 [==============================] - 0s 15ms/step - loss: 0.0429 - acc: 0.9953 - val_loss: 0.0432 - val_acc: 0.9956\n",
      "Epoch 77/200\n",
      "17/17 [==============================] - 0s 19ms/step - loss: 0.0490 - acc: 0.9944 - val_loss: 0.0452 - val_acc: 0.9956\n",
      "Epoch 78/200\n",
      "17/17 [==============================] - 0s 15ms/step - loss: 0.0442 - acc: 0.9958 - val_loss: 0.0429 - val_acc: 0.9956\n",
      "Epoch 79/200\n",
      "17/17 [==============================] - 0s 15ms/step - loss: 0.0421 - acc: 0.9949 - val_loss: 0.0383 - val_acc: 0.9970\n",
      "Epoch 80/200\n",
      "17/17 [==============================] - 0s 14ms/step - loss: 0.0438 - acc: 0.9944 - val_loss: 0.0401 - val_acc: 0.9956\n",
      "Epoch 81/200\n",
      "17/17 [==============================] - 0s 15ms/step - loss: 0.0444 - acc: 0.9939 - val_loss: 0.0416 - val_acc: 0.9970\n",
      "Epoch 82/200\n",
      "17/17 [==============================] - 0s 14ms/step - loss: 0.0418 - acc: 0.9935 - val_loss: 0.0562 - val_acc: 0.9956\n",
      "Epoch 83/200\n",
      "17/17 [==============================] - 0s 14ms/step - loss: 0.0445 - acc: 0.9953 - val_loss: 0.0371 - val_acc: 0.9985\n",
      "Epoch 84/200\n",
      "17/17 [==============================] - 0s 14ms/step - loss: 0.0410 - acc: 0.9963 - val_loss: 0.0408 - val_acc: 0.9956\n",
      "Epoch 85/200\n",
      "17/17 [==============================] - 0s 15ms/step - loss: 0.0423 - acc: 0.9958 - val_loss: 0.0437 - val_acc: 0.9956\n",
      "Epoch 86/200\n",
      "17/17 [==============================] - 0s 14ms/step - loss: 0.0414 - acc: 0.9958 - val_loss: 0.0495 - val_acc: 0.9941\n",
      "Epoch 87/200\n",
      "17/17 [==============================] - 0s 14ms/step - loss: 0.0410 - acc: 0.9949 - val_loss: 0.0464 - val_acc: 0.9956\n",
      "Epoch 88/200\n",
      "17/17 [==============================] - 0s 14ms/step - loss: 0.0389 - acc: 0.9953 - val_loss: 0.0372 - val_acc: 0.9970\n",
      "Epoch 89/200\n",
      "17/17 [==============================] - 0s 16ms/step - loss: 0.0403 - acc: 0.9958 - val_loss: 0.0459 - val_acc: 0.9956\n",
      "Epoch 90/200\n",
      "17/17 [==============================] - 0s 15ms/step - loss: 0.0417 - acc: 0.9953 - val_loss: 0.0429 - val_acc: 0.9970\n",
      "Epoch 91/200\n",
      "17/17 [==============================] - 0s 16ms/step - loss: 0.0401 - acc: 0.9949 - val_loss: 0.0425 - val_acc: 0.9956\n",
      "Epoch 92/200\n",
      "17/17 [==============================] - 0s 16ms/step - loss: 0.0436 - acc: 0.9930 - val_loss: 0.0489 - val_acc: 0.9970\n",
      "Epoch 93/200\n",
      "17/17 [==============================] - 0s 15ms/step - loss: 0.0393 - acc: 0.9958 - val_loss: 0.1169 - val_acc: 0.9852\n",
      "\n",
      "Epoch 00093: ReduceLROnPlateau reducing learning rate to 0.0005000000237487257.\n",
      "Epoch 94/200\n",
      "17/17 [==============================] - 0s 15ms/step - loss: 0.0385 - acc: 0.9963 - val_loss: 0.0462 - val_acc: 0.9970\n",
      "Epoch 95/200\n",
      "17/17 [==============================] - 0s 15ms/step - loss: 0.0380 - acc: 0.9953 - val_loss: 0.0392 - val_acc: 0.9970\n",
      "Epoch 96/200\n",
      "17/17 [==============================] - 0s 15ms/step - loss: 0.0373 - acc: 0.9967 - val_loss: 0.0383 - val_acc: 0.9970\n",
      "Epoch 97/200\n",
      "17/17 [==============================] - 0s 15ms/step - loss: 0.0378 - acc: 0.9953 - val_loss: 0.0372 - val_acc: 0.9956\n",
      "Epoch 98/200\n",
      "17/17 [==============================] - 0s 16ms/step - loss: 0.0375 - acc: 0.9958 - val_loss: 0.0427 - val_acc: 0.9956\n"
     ]
    },
    {
     "data": {
      "text/plain": [
       "<tensorflow.python.keras.callbacks.History at 0x27cf1d69a90>"
      ]
     },
     "execution_count": 17,
     "metadata": {},
     "output_type": "execute_result"
    }
   ],
   "source": [
    "model.fit(X_train, y_train, epochs=200, validation_data=(X_test, y_test), shuffle=True, batch_size=128, callbacks=[early_stopping,reduceLR_cb], class_weight=class_weights)"
   ]
  },
  {
   "cell_type": "code",
   "execution_count": 18,
   "id": "9653e525",
   "metadata": {
    "scrolled": true
   },
   "outputs": [
    {
     "name": "stdout",
     "output_type": "stream",
     "text": [
      "22/22 [==============================] - 0s 6ms/step - loss: 0.0371 - acc: 0.9985\n"
     ]
    },
    {
     "data": {
      "text/plain": [
       "[0.03713151440024376, 0.9985228776931763]"
      ]
     },
     "execution_count": 18,
     "metadata": {},
     "output_type": "execute_result"
    }
   ],
   "source": [
    "model.evaluate(X_test, y_test)"
   ]
  },
  {
   "cell_type": "code",
   "execution_count": 19,
   "id": "5349bcbd",
   "metadata": {},
   "outputs": [],
   "source": [
    "preds = model.predict(X_test)"
   ]
  },
  {
   "cell_type": "code",
   "execution_count": 20,
   "id": "bc2f4ebd",
   "metadata": {},
   "outputs": [
    {
     "data": {
      "text/plain": [
       "array([[358,   0],\n",
       "       [  1, 318]], dtype=int64)"
      ]
     },
     "execution_count": 20,
     "metadata": {},
     "output_type": "execute_result"
    }
   ],
   "source": [
    "conf = confusion_matrix(np.argmax(y_test,-1), np.argmax(preds,-1))\n",
    "conf"
   ]
  },
  {
   "cell_type": "code",
   "execution_count": 21,
   "id": "980d57ef",
   "metadata": {},
   "outputs": [],
   "source": [
    "import matplotlib.pyplot as plt\n",
    "def plot_confusion_matrix(cm, title='CONFUSION MATRIX', cmap=plt.cm.Reds):\n",
    "    target_names=['Legit','Fake']\n",
    "    plt.imshow(cm, interpolation='nearest', cmap=cmap)\n",
    "    plt.title(title)\n",
    "    plt.colorbar()\n",
    "    tick_marks = np.arange(len(target_names))\n",
    "    plt.xticks(tick_marks, target_names, rotation=45)\n",
    "    plt.yticks(tick_marks, target_names)\n",
    "    plt.tight_layout()\n",
    "    plt.ylabel('True label')\n",
    "    plt.xlabel('Predicted label')"
   ]
  },
  {
   "cell_type": "code",
   "execution_count": 22,
   "id": "8c4dfc2e",
   "metadata": {},
   "outputs": [
    {
     "data": {
      "image/png": "[encoded data removed]",
      "text/plain": [
       "<Figure size 432x288 with 2 Axes>"
      ]
     },
     "metadata": {
      "needs_background": "light"
     },
     "output_type": "display_data"
    }
   ],
   "source": [
    "plot_confusion_matrix(conf)"
   ]
  },
  {
   "cell_type": "code",
   "execution_count": 23,
   "id": "a028a0c4",
   "metadata": {},
   "outputs": [],
   "source": [
    "model.save(\"./model/classifier_2.h5\")"
   ]
  }
 ],
 "metadata": {
  "kernelspec": {
   "display_name": "Python 3",
   "language": "python",
   "name": "python3"
  },
  "language_info": {
   "codemirror_mode": {
    "name": "ipython",
    "version": 3
   },
   "file_extension": ".py",
   "mimetype": "text/x-python",
   "name": "python",
   "nbconvert_exporter": "python",
   "pygments_lexer": "ipython3",
   "version": "3.8.10"
  }
 },
 "nbformat": 4,
 "nbformat_minor": 5
}
